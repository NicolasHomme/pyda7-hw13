{
 "cells": [
  {
   "cell_type": "markdown",
   "metadata": {},
   "source": [
    "# Визуализация данных в Python\n",
    "## Домашнее задание\n",
    "\n",
    "Построить 5 графиков по выбранным данным. \n",
    "\n",
    "Графики должны быть различных видов и использовать хотя бы 2 из рассмотренных на занятии библиотек. \n",
    "\n",
    "Для каждого описать, какого типа переменные участвуют в визуализации, какова её цель (например, посмотреть на корреляцию двух величин или на распределение значений) и почему выбрали именно такой тип графика."
   ]
  },
  {
   "cell_type": "code",
   "execution_count": 159,
   "metadata": {},
   "outputs": [],
   "source": [
    "#увеличим дефолтный размер графиков\n",
    "from pylab import rcParams\n",
    "rcParams['figure.figsize'] = 10,7\n",
    "\n",
    "# импортируем нужные библиотеки\n",
    "import pandas as pd\n",
    "import matplotlib.pyplot as plt\n",
    "import seaborn as sns"
   ]
  },
  {
   "cell_type": "markdown",
   "metadata": {},
   "source": [
    "#### Для всей работы использую собственный набор данных \n",
    "Данные по потреблению электрической энергии физическими лицами, у которых давно не списывали показания с приборов электрической энергии.\n",
    "Берутся 2 среза информации: на начало 2019 года и начало 2020 года. \n",
    "Столбцы:\n",
    "\n",
    "year      - год выгрузки данных\n",
    "\n",
    "user      - потребитель - физическое лицо\n",
    "\n",
    "region    - город или район\n",
    "\n",
    "type      - тип подключенного к электроэнергии строения\n",
    "\n",
    "months    - количество месяцев без списания показаний с прибора учета, может быть пустое поле, если ни разу не списывались данные"
   ]
  },
  {
   "cell_type": "code",
   "execution_count": 25,
   "metadata": {},
   "outputs": [],
   "source": [
    "raw_data = pd.read_csv('data/6months.csv', sep=';', encoding = \"utf-8\")"
   ]
  },
  {
   "cell_type": "code",
   "execution_count": 26,
   "metadata": {},
   "outputs": [
    {
     "name": "stdout",
     "output_type": "stream",
     "text": [
      "<class 'pandas.core.frame.DataFrame'>\n",
      "RangeIndex: 194573 entries, 0 to 194572\n",
      "Data columns (total 5 columns):\n",
      "year      194573 non-null int64\n",
      "user      194573 non-null object\n",
      "region    194573 non-null object\n",
      "type      194573 non-null object\n",
      "months    174912 non-null float64\n",
      "dtypes: float64(1), int64(1), object(3)\n",
      "memory usage: 5.2+ MB\n"
     ]
    }
   ],
   "source": [
    "# столбцы: \n",
    "raw_data.info()"
   ]
  },
  {
   "cell_type": "code",
   "execution_count": 27,
   "metadata": {},
   "outputs": [],
   "source": [
    "# преобразование данных и заполнение пропущенных 20 тыс. записей на значение в 6 месяцев: \n",
    "raw_data['months'].fillna(6, inplace=True)\n",
    "raw_data['months'] = raw_data.months.astype('int64')"
   ]
  },
  {
   "cell_type": "code",
   "execution_count": 28,
   "metadata": {},
   "outputs": [
    {
     "data": {
      "text/html": [
       "<div>\n",
       "<style scoped>\n",
       "    .dataframe tbody tr th:only-of-type {\n",
       "        vertical-align: middle;\n",
       "    }\n",
       "\n",
       "    .dataframe tbody tr th {\n",
       "        vertical-align: top;\n",
       "    }\n",
       "\n",
       "    .dataframe thead th {\n",
       "        text-align: right;\n",
       "    }\n",
       "</style>\n",
       "<table border=\"1\" class=\"dataframe\">\n",
       "  <thead>\n",
       "    <tr style=\"text-align: right;\">\n",
       "      <th></th>\n",
       "      <th>year</th>\n",
       "      <th>user</th>\n",
       "      <th>region</th>\n",
       "      <th>type</th>\n",
       "      <th>months</th>\n",
       "    </tr>\n",
       "  </thead>\n",
       "  <tbody>\n",
       "    <tr>\n",
       "      <th>0</th>\n",
       "      <td>2020</td>\n",
       "      <td>66300037001</td>\n",
       "      <td>г. Александровск</td>\n",
       "      <td>гараж</td>\n",
       "      <td>56</td>\n",
       "    </tr>\n",
       "    <tr>\n",
       "      <th>1</th>\n",
       "      <td>2020</td>\n",
       "      <td>66300022042</td>\n",
       "      <td>г. Александровск</td>\n",
       "      <td>част. ж/дом</td>\n",
       "      <td>62</td>\n",
       "    </tr>\n",
       "    <tr>\n",
       "      <th>2</th>\n",
       "      <td>2020</td>\n",
       "      <td>66300022081</td>\n",
       "      <td>г. Александровск</td>\n",
       "      <td>част. ж/дом</td>\n",
       "      <td>34</td>\n",
       "    </tr>\n",
       "    <tr>\n",
       "      <th>3</th>\n",
       "      <td>2020</td>\n",
       "      <td>66300267029</td>\n",
       "      <td>г. Александровск</td>\n",
       "      <td>част. ж/дом</td>\n",
       "      <td>54</td>\n",
       "    </tr>\n",
       "    <tr>\n",
       "      <th>4</th>\n",
       "      <td>2020</td>\n",
       "      <td>66300061099</td>\n",
       "      <td>г. Александровск</td>\n",
       "      <td>част. ж/дом</td>\n",
       "      <td>51</td>\n",
       "    </tr>\n",
       "  </tbody>\n",
       "</table>\n",
       "</div>"
      ],
      "text/plain": [
       "   year         user            region         type  months\n",
       "0  2020  66300037001  г. Александровск        гараж      56\n",
       "1  2020  66300022042  г. Александровск  част. ж/дом      62\n",
       "2  2020  66300022081  г. Александровск  част. ж/дом      34\n",
       "3  2020  66300267029  г. Александровск  част. ж/дом      54\n",
       "4  2020  66300061099  г. Александровск  част. ж/дом      51"
      ]
     },
     "execution_count": 28,
     "metadata": {},
     "output_type": "execute_result"
    }
   ],
   "source": [
    "raw_data.head()"
   ]
  },
  {
   "cell_type": "code",
   "execution_count": 45,
   "metadata": {},
   "outputs": [
    {
     "data": {
      "text/plain": [
       "<BarContainer object of 10 artists>"
      ]
     },
     "execution_count": 45,
     "metadata": {},
     "output_type": "execute_result"
    },
    {
     "data": {
      "image/png": "[encoded data removed]",
      "text/plain": [
       "<Figure size 432x288 with 1 Axes>"
      ]
     },
     "metadata": {
      "needs_background": "light"
     },
     "output_type": "display_data"
    }
   ],
   "source": [
    "# подсчитаем информацию по типам строений и уберем нижние значения\n",
    "types = raw_data['type'].value_counts().reset_index().head(10)\n",
    "plt.barh(types['index'], types['type'])"
   ]
  },
  {
   "cell_type": "markdown",
   "metadata": {},
   "source": [
    "Вывод: наибольшее количество строений, в которых не списывались показания, это частные жилые дома. \n",
    "Все остальные категории в сумме дадут меньшее значение.\n",
    "Покажем это на круговой диаграмме."
   ]
  },
  {
   "cell_type": "code",
   "execution_count": 49,
   "metadata": {},
   "outputs": [
    {
     "data": {
      "text/plain": [
       "([<matplotlib.patches.Wedge at 0xcd36630>,\n",
       "  <matplotlib.patches.Wedge at 0xcd368f0>,\n",
       "  <matplotlib.patches.Wedge at 0xcd36b70>,\n",
       "  <matplotlib.patches.Wedge at 0xcd36e30>,\n",
       "  <matplotlib.patches.Wedge at 0xcd41130>,\n",
       "  <matplotlib.patches.Wedge at 0xcd41470>,\n",
       "  <matplotlib.patches.Wedge at 0xcd41730>,\n",
       "  <matplotlib.patches.Wedge at 0xcd419f0>,\n",
       "  <matplotlib.patches.Wedge at 0xcd41110>,\n",
       "  <matplotlib.patches.Wedge at 0xcd41450>],\n",
       " [Text(-0.2642396692244328, 1.0677908958256586, 'част. ж/дом'),\n",
       "  Text(-0.5433353879945145, -0.9564448003689761, 'дача'),\n",
       "  Text(0.44657010694469673, -1.005273664025574, 'кварт.'),\n",
       "  Text(0.8917578673456046, -0.6440247712838529, 'кв. малокв.'),\n",
       "  Text(1.028947962553057, -0.38892941565008055, 'гараж'),\n",
       "  Text(1.0742668034136797, -0.23653928866755874, 'стр.площ.'),\n",
       "  Text(1.0889723244168819, -0.1553681970484746, 'прочие хоз.'),\n",
       "  Text(1.0962643785520214, -0.09057821105514595, 'хоз.постр.'),\n",
       "  Text(1.0991247617850297, -0.04387206435765046, 'эл.отопл.'),\n",
       "  Text(1.0999219645807017, -0.013102359822936727, 'нежилой')])"
      ]
     },
     "execution_count": 49,
     "metadata": {},
     "output_type": "execute_result"
    },
    {
     "data": {
      "image/png": "[encoded data removed]",
      "text/plain": [
       "<Figure size 432x288 with 1 Axes>"
      ]
     },
     "metadata": {},
     "output_type": "display_data"
    }
   ],
   "source": [
    "plt.pie(x=types['type'], labels=types['index'])"
   ]
  },
  {
   "cell_type": "markdown",
   "metadata": {},
   "source": [
    "Единственное, что можно понять, что частные жилые дома занимают более 50%. \n",
    "\n",
    "Сравним, насколько изменилось количество потребителей без списания показаний в 2020 году по сравнению с 2019 годом."
   ]
  },
  {
   "cell_type": "code",
   "execution_count": 62,
   "metadata": {},
   "outputs": [
    {
     "data": {
      "text/plain": [
       "<matplotlib.axes._subplots.AxesSubplot at 0xcf4f9f0>"
      ]
     },
     "execution_count": 62,
     "metadata": {},
     "output_type": "execute_result"
    },
    {
     "data": {
      "image/png": "[encoded data removed]",
      "text/plain": [
       "<Figure size 432x288 with 1 Axes>"
      ]
     },
     "metadata": {
      "needs_background": "light"
     },
     "output_type": "display_data"
    }
   ],
   "source": [
    "raw_data['year'].value_counts().plot(kind = 'barh')"
   ]
  },
  {
   "cell_type": "markdown",
   "metadata": {},
   "source": [
    "Получилось не выразительно, покажем на другом графике:"
   ]
  },
  {
   "cell_type": "code",
   "execution_count": 70,
   "metadata": {},
   "outputs": [
    {
     "data": {
      "text/plain": [
       "<matplotlib.axes._subplots.AxesSubplot at 0xd124ff0>"
      ]
     },
     "execution_count": 70,
     "metadata": {},
     "output_type": "execute_result"
    },
    {
     "data": {
      "image/png": "[encoded data removed]",
      "text/plain": [
       "<Figure size 432x288 with 1 Axes>"
      ]
     },
     "metadata": {
      "needs_background": "light"
     },
     "output_type": "display_data"
    }
   ],
   "source": [
    "raw_data['year'].value_counts().plot()"
   ]
  },
  {
   "cell_type": "markdown",
   "metadata": {},
   "source": [
    "Вывод: в 2020 году количество потребителей, у которых не проводилось списание показаний, незначительно снизилось.\n",
    "\n",
    "Рассмотрим, применим ли такой вывод в разрезе городов и районов (для удобства возьмем только для нас.пунктов свыше 2000 потребителей)."
   ]
  },
  {
   "cell_type": "code",
   "execution_count": 158,
   "metadata": {},
   "outputs": [
    {
     "data": {
      "text/plain": [
       "<matplotlib.axes._subplots.AxesSubplot at 0xf80d970>"
      ]
     },
     "execution_count": 158,
     "metadata": {},
     "output_type": "execute_result"
    },
    {
     "data": {
      "image/png": "[encoded data removed]",
      "text/plain": [
       "<Figure size 432x288 with 1 Axes>"
      ]
     },
     "metadata": {
      "needs_background": "light"
     },
     "output_type": "display_data"
    }
   ],
   "source": [
    "regions = raw_data[['region','year','user']].groupby(['region','year']).count().unstack(['year'])\n",
    "\n",
    "regions[regions['user'][2020]>2000].plot(kind='bar')\n"
   ]
  },
  {
   "cell_type": "markdown",
   "metadata": {},
   "source": [
    "Выводы: \n",
    "1. 11 населенных пунктов имеют свыше 2000 потребителей, у которых не проводилось списание показаний 6 мес. и более. Причем в 5 из 11 н.п. кол-во потребителей снизилось по сравнению с 2019 годом. Это положительно характеризует управление данными н.п.\n",
    "\n",
    "2. В 5 н.п. требуется проведение дополнительных мероприятий по списанию показаний. Наибольший эффект может быть получен в Пермском районе. "
   ]
  },
  {
   "cell_type": "markdown",
   "metadata": {},
   "source": [
    "### Для применения seaborn берется набор данных по оценке книг.\n",
    "\n",
    "Структура данных: 2 файла \n",
    "- BX-Book-Ratings - рейтинги книг\n",
    "- BX-Books - данные о книгах"
   ]
  },
  {
   "cell_type": "code",
   "execution_count": 177,
   "metadata": {},
   "outputs": [],
   "source": [
    "ratings = pd.read_csv('data/BX-Book-Ratings.csv', sep=';', encoding = 'ISO-8859-1')\n",
    "books = pd.read_csv('data/BX-Books.csv', sep=';', encoding = 'ISO-8859-1')"
   ]
  },
  {
   "cell_type": "code",
   "execution_count": 178,
   "metadata": {},
   "outputs": [
    {
     "name": "stdout",
     "output_type": "stream",
     "text": [
      "<class 'pandas.core.frame.DataFrame'>\n",
      "RangeIndex: 1149780 entries, 0 to 1149779\n",
      "Data columns (total 3 columns):\n",
      "User-ID        1149780 non-null int64\n",
      "ISBN           1149780 non-null object\n",
      "Book-Rating    1149780 non-null int64\n",
      "dtypes: int64(2), object(1)\n",
      "memory usage: 21.9+ MB\n"
     ]
    }
   ],
   "source": [
    "ratings.info()"
   ]
  },
  {
   "cell_type": "code",
   "execution_count": 179,
   "metadata": {},
   "outputs": [
    {
     "name": "stdout",
     "output_type": "stream",
     "text": [
      "<class 'pandas.core.frame.DataFrame'>\n",
      "RangeIndex: 271357 entries, 0 to 271356\n",
      "Data columns (total 8 columns):\n",
      "ISBN                   271357 non-null object\n",
      "Book-Title             271357 non-null object\n",
      "Book-Author            271356 non-null object\n",
      "Year-Of-Publication    271357 non-null int64\n",
      "Publisher              271355 non-null object\n",
      "Image-URL-S            271357 non-null object\n",
      "Image-URL-M            271357 non-null object\n",
      "Image-URL-L            271357 non-null object\n",
      "dtypes: int64(1), object(7)\n",
      "memory usage: 9.3+ MB\n"
     ]
    }
   ],
   "source": [
    "books.info()"
   ]
  },
  {
   "cell_type": "code",
   "execution_count": 204,
   "metadata": {},
   "outputs": [
    {
     "data": {
      "text/html": [
       "<div>\n",
       "<style scoped>\n",
       "    .dataframe tbody tr th:only-of-type {\n",
       "        vertical-align: middle;\n",
       "    }\n",
       "\n",
       "    .dataframe tbody tr th {\n",
       "        vertical-align: top;\n",
       "    }\n",
       "\n",
       "    .dataframe thead th {\n",
       "        text-align: right;\n",
       "    }\n",
       "</style>\n",
       "<table border=\"1\" class=\"dataframe\">\n",
       "  <thead>\n",
       "    <tr style=\"text-align: right;\">\n",
       "      <th></th>\n",
       "      <th>ISBN</th>\n",
       "      <th>User-ID</th>\n",
       "      <th>Book-Rating</th>\n",
       "    </tr>\n",
       "  </thead>\n",
       "  <tbody>\n",
       "    <tr>\n",
       "      <th>62</th>\n",
       "      <td>000000000</td>\n",
       "      <td>14</td>\n",
       "      <td>0.500000</td>\n",
       "    </tr>\n",
       "    <tr>\n",
       "      <th>231</th>\n",
       "      <td>0002005018</td>\n",
       "      <td>14</td>\n",
       "      <td>4.928571</td>\n",
       "    </tr>\n",
       "    <tr>\n",
       "      <th>513</th>\n",
       "      <td>0002251760</td>\n",
       "      <td>13</td>\n",
       "      <td>4.846154</td>\n",
       "    </tr>\n",
       "    <tr>\n",
       "      <th>607</th>\n",
       "      <td>0002259001</td>\n",
       "      <td>15</td>\n",
       "      <td>5.000000</td>\n",
       "    </tr>\n",
       "    <tr>\n",
       "      <th>619</th>\n",
       "      <td>0002259834</td>\n",
       "      <td>12</td>\n",
       "      <td>4.583333</td>\n",
       "    </tr>\n",
       "  </tbody>\n",
       "</table>\n",
       "</div>"
      ],
      "text/plain": [
       "           ISBN  User-ID  Book-Rating\n",
       "62    000000000       14     0.500000\n",
       "231  0002005018       14     4.928571\n",
       "513  0002251760       13     4.846154\n",
       "607  0002259001       15     5.000000\n",
       "619  0002259834       12     4.583333"
      ]
     },
     "execution_count": 204,
     "metadata": {},
     "output_type": "execute_result"
    }
   ],
   "source": [
    "ratings_grouped = ratings.groupby('ISBN').agg({'User-ID':'count','Book-Rating':'mean'}).reset_index() #группируем по книгам\n",
    "ratings_grouped = ratings_grouped[ratings_grouped['User-ID']>10] # оставляем только оценки для книг от 10 оценок\n",
    "ratings_grouped.head()"
   ]
  },
  {
   "cell_type": "code",
   "execution_count": 205,
   "metadata": {},
   "outputs": [
    {
     "data": {
      "text/html": [
       "<div>\n",
       "<style scoped>\n",
       "    .dataframe tbody tr th:only-of-type {\n",
       "        vertical-align: middle;\n",
       "    }\n",
       "\n",
       "    .dataframe tbody tr th {\n",
       "        vertical-align: top;\n",
       "    }\n",
       "\n",
       "    .dataframe thead th {\n",
       "        text-align: right;\n",
       "    }\n",
       "</style>\n",
       "<table border=\"1\" class=\"dataframe\">\n",
       "  <thead>\n",
       "    <tr style=\"text-align: right;\">\n",
       "      <th></th>\n",
       "      <th>ISBN</th>\n",
       "      <th>User-ID</th>\n",
       "      <th>Book-Rating</th>\n",
       "      <th>Year-Of-Publication</th>\n",
       "      <th>Book-Title</th>\n",
       "      <th>Book-Author</th>\n",
       "    </tr>\n",
       "  </thead>\n",
       "  <tbody>\n",
       "    <tr>\n",
       "      <th>2237</th>\n",
       "      <td>3551551936</td>\n",
       "      <td>12</td>\n",
       "      <td>8.000000</td>\n",
       "      <td>1999</td>\n",
       "      <td>Harry Potter Und Der Feuerkelch</td>\n",
       "      <td>Joanne K. Rowling</td>\n",
       "    </tr>\n",
       "    <tr>\n",
       "      <th>1757</th>\n",
       "      <td>1844262553</td>\n",
       "      <td>54</td>\n",
       "      <td>7.962963</td>\n",
       "      <td>2003</td>\n",
       "      <td>Free</td>\n",
       "      <td>Paul Vincent</td>\n",
       "    </tr>\n",
       "    <tr>\n",
       "      <th>2328</th>\n",
       "      <td>8478886451</td>\n",
       "      <td>16</td>\n",
       "      <td>7.875000</td>\n",
       "      <td>2001</td>\n",
       "      <td>Harry Potter y el cÃ¡liz de fuego</td>\n",
       "      <td>J. K. Rowling</td>\n",
       "    </tr>\n",
       "    <tr>\n",
       "      <th>2050</th>\n",
       "      <td>3423071516</td>\n",
       "      <td>15</td>\n",
       "      <td>7.800000</td>\n",
       "      <td>2002</td>\n",
       "      <td>Der Kleine Hobbit</td>\n",
       "      <td>J. R. R. Tolkien</td>\n",
       "    </tr>\n",
       "    <tr>\n",
       "      <th>1693</th>\n",
       "      <td>1577780728</td>\n",
       "      <td>15</td>\n",
       "      <td>7.533333</td>\n",
       "      <td>1999</td>\n",
       "      <td>Jesus Freaks: DC Talk and The Voice of the Mar...</td>\n",
       "      <td>DC Talk</td>\n",
       "    </tr>\n",
       "  </tbody>\n",
       "</table>\n",
       "</div>"
      ],
      "text/plain": [
       "            ISBN  User-ID  Book-Rating  Year-Of-Publication  \\\n",
       "2237  3551551936       12     8.000000                 1999   \n",
       "1757  1844262553       54     7.962963                 2003   \n",
       "2328  8478886451       16     7.875000                 2001   \n",
       "2050  3423071516       15     7.800000                 2002   \n",
       "1693  1577780728       15     7.533333                 1999   \n",
       "\n",
       "                                             Book-Title        Book-Author  \n",
       "2237                    Harry Potter Und Der Feuerkelch  Joanne K. Rowling  \n",
       "1757                                               Free       Paul Vincent  \n",
       "2328                  Harry Potter y el cÃ¡liz de fuego      J. K. Rowling  \n",
       "2050                                  Der Kleine Hobbit   J. R. R. Tolkien  \n",
       "1693  Jesus Freaks: DC Talk and The Voice of the Mar...            DC Talk  "
      ]
     },
     "execution_count": 205,
     "metadata": {},
     "output_type": "execute_result"
    }
   ],
   "source": [
    "# берем из books столбец с годом выпуска книги, автором и названием\n",
    "ratings_books = pd.merge(ratings_grouped, books[['ISBN','Year-Of-Publication','Book-Title','Book-Author']], on='ISBN')\n",
    "# убираем все книги с отсутствующим годом выпуска (в файле установлен равным 0)\n",
    "ratings_books = ratings_books[ratings_books['Year-Of-Publication']>1990]\n",
    "ratings_books.sort_values(by = ['Book-Rating'], ascending = False, inplace = True)\n",
    "ratings_books.head()"
   ]
  },
  {
   "cell_type": "code",
   "execution_count": 212,
   "metadata": {},
   "outputs": [
    {
     "data": {
      "text/plain": [
       "<matplotlib.axes._subplots.AxesSubplot at 0x17766930>"
      ]
     },
     "execution_count": 212,
     "metadata": {},
     "output_type": "execute_result"
    },
    {
     "data": {
      "image/png": "[encoded data removed]",
      "text/plain": [
       "<Figure size 720x504 with 1 Axes>"
      ]
     },
     "metadata": {
      "needs_background": "light"
     },
     "output_type": "display_data"
    }
   ],
   "source": [
    "sns.distplot(ratings_books['Book-Rating'])\n",
    "# получили нормальное распределение"
   ]
  },
  {
   "cell_type": "code",
   "execution_count": 213,
   "metadata": {},
   "outputs": [
    {
     "data": {
      "text/plain": [
       "<seaborn.axisgrid.JointGrid at 0x14a6df10>"
      ]
     },
     "execution_count": 213,
     "metadata": {},
     "output_type": "execute_result"
    },
    {
     "data": {
      "image/png": "[encoded data removed]",
      "text/plain": [
       "<Figure size 432x432 with 3 Axes>"
      ]
     },
     "metadata": {
      "needs_background": "light"
     },
     "output_type": "display_data"
    }
   ],
   "source": [
    "sns.jointplot(x='Year-Of-Publication', y='Book-Rating',data=ratings_books, kind='scatter')\n",
    "# сложно сделать вывод из такого графика"
   ]
  },
  {
   "cell_type": "code",
   "execution_count": 215,
   "metadata": {},
   "outputs": [
    {
     "data": {
      "text/plain": [
       "<matplotlib.axes._subplots.AxesSubplot at 0x14a40af0>"
      ]
     },
     "execution_count": 215,
     "metadata": {},
     "output_type": "execute_result"
    },
    {
     "data": {
      "image/png": "[encoded data removed]",
      "text/plain": [
       "<Figure size 720x504 with 1 Axes>"
      ]
     },
     "metadata": {
      "needs_background": "light"
     },
     "output_type": "display_data"
    }
   ],
   "source": [
    "sns.boxplot(x='Year-Of-Publication', y='Book-Rating', data=ratings_books)\n",
    "# сложно сделать какой-либо конкретный вывод из такого графика,\n",
    "# разве что рейтинг у книг средний очень низкий :) "
   ]
  },
  {
   "cell_type": "code",
   "execution_count": null,
   "metadata": {},
   "outputs": [],
   "source": []
  }
 ],
 "metadata": {
  "kernelspec": {
   "display_name": "Python 3",
   "language": "python",
   "name": "python3"
  },
  "language_info": {
   "codemirror_mode": {
    "name": "ipython",
    "version": 3
   },
   "file_extension": ".py",
   "mimetype": "text/x-python",
   "name": "python",
   "nbconvert_exporter": "python",
   "pygments_lexer": "ipython3",
   "version": "3.7.1"
  }
 },
 "nbformat": 4,
 "nbformat_minor": 2
}
