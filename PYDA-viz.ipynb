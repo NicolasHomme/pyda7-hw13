{
 "cells": [
  {
   "cell_type": "markdown",
   "metadata": {},
   "source": [
    "# <center> Визуализация на Python\n",
    "## <center>Часть 1. Matplotlib\n",
    "\n",
    "\n",
    "В начале как всегда настроим окружение: импортируем все необходимые библиотеки и немного настроим дефолтное отображение картинок."
   ]
  },
  {
   "cell_type": "code",
   "execution_count": 1,
   "metadata": {},
   "outputs": [],
   "source": [
    "#увеличим дефолтный размер графиков\n",
    "from pylab import rcParams\n",
    "rcParams['figure.figsize'] = 10,7\n",
    "\n",
    "# импортируем нужные библиотеки\n",
    "import pandas as pd\n",
    "import matplotlib.pyplot as plt"
   ]
  },
  {
   "cell_type": "markdown",
   "metadata": {},
   "source": [
    "Для начала построим примитивную линейную диаграмму при помощи функции `plot`"
   ]
  },
  {
   "cell_type": "code",
   "execution_count": 2,
   "metadata": {},
   "outputs": [
    {
     "data": {
      "text/plain": [
       "[<matplotlib.lines.Line2D at 0x7641710>]"
      ]
     },
     "execution_count": 2,
     "metadata": {},
     "output_type": "execute_result"
    },
    {
     "data": {
      "image/png": "[encoded data removed]",
      "text/plain": [
       "<Figure size 432x288 with 1 Axes>"
      ]
     },
     "metadata": {
      "needs_background": "light"
     },
     "output_type": "display_data"
    }
   ],
   "source": [
    "plt.plot([1, 4, 9, 12, 15, 20, 25])\n",
    "plt.plot([25, 20, 15, 12, 9, 4, 2])"
   ]
  },
  {
   "cell_type": "markdown",
   "metadata": {},
   "source": [
    "Потренируемся строить графики с библиотекой `matplotlib` на основе данных [об именах новорожденных в США](https://catalog.data.gov/dataset/baby-names-from-social-security-card-applications-national-level-data). Построим **столбчатую диаграмму распределения 15 самых популярных женских имен в 2017 году**."
   ]
  },
  {
   "cell_type": "code",
   "execution_count": 3,
   "metadata": {},
   "outputs": [
    {
     "data": {
      "text/html": [
       "<div>\n",
       "<style scoped>\n",
       "    .dataframe tbody tr th:only-of-type {\n",
       "        vertical-align: middle;\n",
       "    }\n",
       "\n",
       "    .dataframe tbody tr th {\n",
       "        vertical-align: top;\n",
       "    }\n",
       "\n",
       "    .dataframe thead th {\n",
       "        text-align: right;\n",
       "    }\n",
       "</style>\n",
       "<table border=\"1\" class=\"dataframe\">\n",
       "  <thead>\n",
       "    <tr style=\"text-align: right;\">\n",
       "      <th></th>\n",
       "      <th>Name</th>\n",
       "      <th>Gender</th>\n",
       "      <th>Count</th>\n",
       "    </tr>\n",
       "  </thead>\n",
       "  <tbody>\n",
       "    <tr>\n",
       "      <th>0</th>\n",
       "      <td>Emma</td>\n",
       "      <td>F</td>\n",
       "      <td>19738</td>\n",
       "    </tr>\n",
       "    <tr>\n",
       "      <th>1</th>\n",
       "      <td>Olivia</td>\n",
       "      <td>F</td>\n",
       "      <td>18632</td>\n",
       "    </tr>\n",
       "    <tr>\n",
       "      <th>2</th>\n",
       "      <td>Ava</td>\n",
       "      <td>F</td>\n",
       "      <td>15902</td>\n",
       "    </tr>\n",
       "    <tr>\n",
       "      <th>3</th>\n",
       "      <td>Isabella</td>\n",
       "      <td>F</td>\n",
       "      <td>15100</td>\n",
       "    </tr>\n",
       "    <tr>\n",
       "      <th>4</th>\n",
       "      <td>Sophia</td>\n",
       "      <td>F</td>\n",
       "      <td>14831</td>\n",
       "    </tr>\n",
       "    <tr>\n",
       "      <th>5</th>\n",
       "      <td>Mia</td>\n",
       "      <td>F</td>\n",
       "      <td>13437</td>\n",
       "    </tr>\n",
       "    <tr>\n",
       "      <th>6</th>\n",
       "      <td>Charlotte</td>\n",
       "      <td>F</td>\n",
       "      <td>12893</td>\n",
       "    </tr>\n",
       "    <tr>\n",
       "      <th>7</th>\n",
       "      <td>Amelia</td>\n",
       "      <td>F</td>\n",
       "      <td>11800</td>\n",
       "    </tr>\n",
       "    <tr>\n",
       "      <th>8</th>\n",
       "      <td>Evelyn</td>\n",
       "      <td>F</td>\n",
       "      <td>10675</td>\n",
       "    </tr>\n",
       "    <tr>\n",
       "      <th>9</th>\n",
       "      <td>Abigail</td>\n",
       "      <td>F</td>\n",
       "      <td>10551</td>\n",
       "    </tr>\n",
       "    <tr>\n",
       "      <th>10</th>\n",
       "      <td>Harper</td>\n",
       "      <td>F</td>\n",
       "      <td>10451</td>\n",
       "    </tr>\n",
       "    <tr>\n",
       "      <th>11</th>\n",
       "      <td>Emily</td>\n",
       "      <td>F</td>\n",
       "      <td>9746</td>\n",
       "    </tr>\n",
       "    <tr>\n",
       "      <th>12</th>\n",
       "      <td>Elizabeth</td>\n",
       "      <td>F</td>\n",
       "      <td>8915</td>\n",
       "    </tr>\n",
       "    <tr>\n",
       "      <th>13</th>\n",
       "      <td>Avery</td>\n",
       "      <td>F</td>\n",
       "      <td>8186</td>\n",
       "    </tr>\n",
       "    <tr>\n",
       "      <th>14</th>\n",
       "      <td>Sofia</td>\n",
       "      <td>F</td>\n",
       "      <td>8134</td>\n",
       "    </tr>\n",
       "  </tbody>\n",
       "</table>\n",
       "</div>"
      ],
      "text/plain": [
       "         Name Gender  Count\n",
       "0        Emma      F  19738\n",
       "1      Olivia      F  18632\n",
       "2         Ava      F  15902\n",
       "3    Isabella      F  15100\n",
       "4      Sophia      F  14831\n",
       "5         Mia      F  13437\n",
       "6   Charlotte      F  12893\n",
       "7      Amelia      F  11800\n",
       "8      Evelyn      F  10675\n",
       "9     Abigail      F  10551\n",
       "10     Harper      F  10451\n",
       "11      Emily      F   9746\n",
       "12  Elizabeth      F   8915\n",
       "13      Avery      F   8186\n",
       "14      Sofia      F   8134"
      ]
     },
     "execution_count": 3,
     "metadata": {},
     "output_type": "execute_result"
    }
   ],
   "source": [
    "names = pd.read_csv(\n",
    "    'names/yob2017.txt',\n",
    "    names=['Name', 'Gender', 'Count'])\n",
    "# names\n",
    "names_barh = names[names['Gender']=='F'].sort_values('Count', ascending=False).head(15)\n",
    "names_barh"
   ]
  },
  {
   "cell_type": "code",
   "execution_count": 4,
   "metadata": {},
   "outputs": [
    {
     "data": {
      "text/plain": [
       "<BarContainer object of 15 artists>"
      ]
     },
     "execution_count": 4,
     "metadata": {},
     "output_type": "execute_result"
    },
    {
     "data": {
      "image/png": "[encoded data removed]",
      "text/plain": [
       "<Figure size 432x288 with 1 Axes>"
      ]
     },
     "metadata": {
      "needs_background": "light"
     },
     "output_type": "display_data"
    }
   ],
   "source": [
    "plt.barh(names_barh['Name'], names_barh['Count'])\n",
    "# plt.savefig('my_diag_2.png')"
   ]
  },
  {
   "cell_type": "code",
   "execution_count": 5,
   "metadata": {},
   "outputs": [
    {
     "data": {
      "image/png": "[encoded data removed]",
      "text/plain": [
       "<Figure size 432x288 with 1 Axes>"
      ]
     },
     "metadata": {
      "needs_background": "light"
     },
     "output_type": "display_data"
    }
   ],
   "source": [
    "plt.barh(names_barh['Name'], names_barh['Count'])\n",
    "plt.xlabel('Quantity')\n",
    "plt.ylabel('Names')\n",
    "plt.title('Top 15 most common women names')\n",
    "plt.text(20000, 0.5, 'Most common name')\n",
    "plt.grid()"
   ]
  },
  {
   "cell_type": "markdown",
   "metadata": {},
   "source": [
    "Построим **линейчатый график распределения количетсва имен в разрезе пола (количества рожденных мальчиков и девочек) c 1880 по 2017 год**"
   ]
  },
  {
   "cell_type": "code",
   "execution_count": 6,
   "metadata": {},
   "outputs": [
    {
     "data": {
      "text/html": [
       "<div>\n",
       "<style scoped>\n",
       "    .dataframe tbody tr th:only-of-type {\n",
       "        vertical-align: middle;\n",
       "    }\n",
       "\n",
       "    .dataframe tbody tr th {\n",
       "        vertical-align: top;\n",
       "    }\n",
       "\n",
       "    .dataframe thead th {\n",
       "        text-align: right;\n",
       "    }\n",
       "</style>\n",
       "<table border=\"1\" class=\"dataframe\">\n",
       "  <thead>\n",
       "    <tr style=\"text-align: right;\">\n",
       "      <th></th>\n",
       "      <th>Name</th>\n",
       "      <th>Gender</th>\n",
       "      <th>Count</th>\n",
       "    </tr>\n",
       "  </thead>\n",
       "  <tbody>\n",
       "    <tr>\n",
       "      <th>1880</th>\n",
       "      <td>Mary</td>\n",
       "      <td>F</td>\n",
       "      <td>7065</td>\n",
       "    </tr>\n",
       "    <tr>\n",
       "      <th>1880</th>\n",
       "      <td>Anna</td>\n",
       "      <td>F</td>\n",
       "      <td>2604</td>\n",
       "    </tr>\n",
       "    <tr>\n",
       "      <th>1880</th>\n",
       "      <td>Emma</td>\n",
       "      <td>F</td>\n",
       "      <td>2003</td>\n",
       "    </tr>\n",
       "    <tr>\n",
       "      <th>1880</th>\n",
       "      <td>Elizabeth</td>\n",
       "      <td>F</td>\n",
       "      <td>1939</td>\n",
       "    </tr>\n",
       "    <tr>\n",
       "      <th>1880</th>\n",
       "      <td>Minnie</td>\n",
       "      <td>F</td>\n",
       "      <td>1746</td>\n",
       "    </tr>\n",
       "    <tr>\n",
       "      <th>1880</th>\n",
       "      <td>Margaret</td>\n",
       "      <td>F</td>\n",
       "      <td>1578</td>\n",
       "    </tr>\n",
       "    <tr>\n",
       "      <th>1880</th>\n",
       "      <td>Ida</td>\n",
       "      <td>F</td>\n",
       "      <td>1472</td>\n",
       "    </tr>\n",
       "    <tr>\n",
       "      <th>1880</th>\n",
       "      <td>Alice</td>\n",
       "      <td>F</td>\n",
       "      <td>1414</td>\n",
       "    </tr>\n",
       "    <tr>\n",
       "      <th>1880</th>\n",
       "      <td>Bertha</td>\n",
       "      <td>F</td>\n",
       "      <td>1320</td>\n",
       "    </tr>\n",
       "    <tr>\n",
       "      <th>1880</th>\n",
       "      <td>Sarah</td>\n",
       "      <td>F</td>\n",
       "      <td>1288</td>\n",
       "    </tr>\n",
       "    <tr>\n",
       "      <th>1880</th>\n",
       "      <td>Annie</td>\n",
       "      <td>F</td>\n",
       "      <td>1258</td>\n",
       "    </tr>\n",
       "    <tr>\n",
       "      <th>1880</th>\n",
       "      <td>Clara</td>\n",
       "      <td>F</td>\n",
       "      <td>1226</td>\n",
       "    </tr>\n",
       "    <tr>\n",
       "      <th>1880</th>\n",
       "      <td>Ella</td>\n",
       "      <td>F</td>\n",
       "      <td>1156</td>\n",
       "    </tr>\n",
       "    <tr>\n",
       "      <th>1880</th>\n",
       "      <td>Florence</td>\n",
       "      <td>F</td>\n",
       "      <td>1063</td>\n",
       "    </tr>\n",
       "    <tr>\n",
       "      <th>1880</th>\n",
       "      <td>Cora</td>\n",
       "      <td>F</td>\n",
       "      <td>1045</td>\n",
       "    </tr>\n",
       "    <tr>\n",
       "      <th>1880</th>\n",
       "      <td>Martha</td>\n",
       "      <td>F</td>\n",
       "      <td>1040</td>\n",
       "    </tr>\n",
       "    <tr>\n",
       "      <th>1880</th>\n",
       "      <td>Laura</td>\n",
       "      <td>F</td>\n",
       "      <td>1012</td>\n",
       "    </tr>\n",
       "    <tr>\n",
       "      <th>1880</th>\n",
       "      <td>Nellie</td>\n",
       "      <td>F</td>\n",
       "      <td>995</td>\n",
       "    </tr>\n",
       "    <tr>\n",
       "      <th>1880</th>\n",
       "      <td>Grace</td>\n",
       "      <td>F</td>\n",
       "      <td>982</td>\n",
       "    </tr>\n",
       "    <tr>\n",
       "      <th>1880</th>\n",
       "      <td>Carrie</td>\n",
       "      <td>F</td>\n",
       "      <td>949</td>\n",
       "    </tr>\n",
       "    <tr>\n",
       "      <th>1880</th>\n",
       "      <td>Maude</td>\n",
       "      <td>F</td>\n",
       "      <td>858</td>\n",
       "    </tr>\n",
       "    <tr>\n",
       "      <th>1880</th>\n",
       "      <td>Mabel</td>\n",
       "      <td>F</td>\n",
       "      <td>808</td>\n",
       "    </tr>\n",
       "    <tr>\n",
       "      <th>1880</th>\n",
       "      <td>Bessie</td>\n",
       "      <td>F</td>\n",
       "      <td>796</td>\n",
       "    </tr>\n",
       "    <tr>\n",
       "      <th>1880</th>\n",
       "      <td>Jennie</td>\n",
       "      <td>F</td>\n",
       "      <td>793</td>\n",
       "    </tr>\n",
       "    <tr>\n",
       "      <th>1880</th>\n",
       "      <td>Gertrude</td>\n",
       "      <td>F</td>\n",
       "      <td>787</td>\n",
       "    </tr>\n",
       "    <tr>\n",
       "      <th>1880</th>\n",
       "      <td>Julia</td>\n",
       "      <td>F</td>\n",
       "      <td>783</td>\n",
       "    </tr>\n",
       "    <tr>\n",
       "      <th>1880</th>\n",
       "      <td>Hattie</td>\n",
       "      <td>F</td>\n",
       "      <td>769</td>\n",
       "    </tr>\n",
       "    <tr>\n",
       "      <th>1880</th>\n",
       "      <td>Edith</td>\n",
       "      <td>F</td>\n",
       "      <td>768</td>\n",
       "    </tr>\n",
       "    <tr>\n",
       "      <th>1880</th>\n",
       "      <td>Mattie</td>\n",
       "      <td>F</td>\n",
       "      <td>704</td>\n",
       "    </tr>\n",
       "    <tr>\n",
       "      <th>1880</th>\n",
       "      <td>Rose</td>\n",
       "      <td>F</td>\n",
       "      <td>700</td>\n",
       "    </tr>\n",
       "    <tr>\n",
       "      <th>...</th>\n",
       "      <td>...</td>\n",
       "      <td>...</td>\n",
       "      <td>...</td>\n",
       "    </tr>\n",
       "    <tr>\n",
       "      <th>2017</th>\n",
       "      <td>Zayer</td>\n",
       "      <td>M</td>\n",
       "      <td>5</td>\n",
       "    </tr>\n",
       "    <tr>\n",
       "      <th>2017</th>\n",
       "      <td>Zayir</td>\n",
       "      <td>M</td>\n",
       "      <td>5</td>\n",
       "    </tr>\n",
       "    <tr>\n",
       "      <th>2017</th>\n",
       "      <td>Zechari</td>\n",
       "      <td>M</td>\n",
       "      <td>5</td>\n",
       "    </tr>\n",
       "    <tr>\n",
       "      <th>2017</th>\n",
       "      <td>Zecharia</td>\n",
       "      <td>M</td>\n",
       "      <td>5</td>\n",
       "    </tr>\n",
       "    <tr>\n",
       "      <th>2017</th>\n",
       "      <td>Zee</td>\n",
       "      <td>M</td>\n",
       "      <td>5</td>\n",
       "    </tr>\n",
       "    <tr>\n",
       "      <th>2017</th>\n",
       "      <td>Zeid</td>\n",
       "      <td>M</td>\n",
       "      <td>5</td>\n",
       "    </tr>\n",
       "    <tr>\n",
       "      <th>2017</th>\n",
       "      <td>Zennith</td>\n",
       "      <td>M</td>\n",
       "      <td>5</td>\n",
       "    </tr>\n",
       "    <tr>\n",
       "      <th>2017</th>\n",
       "      <td>Zeo</td>\n",
       "      <td>M</td>\n",
       "      <td>5</td>\n",
       "    </tr>\n",
       "    <tr>\n",
       "      <th>2017</th>\n",
       "      <td>Zerrick</td>\n",
       "      <td>M</td>\n",
       "      <td>5</td>\n",
       "    </tr>\n",
       "    <tr>\n",
       "      <th>2017</th>\n",
       "      <td>Zevon</td>\n",
       "      <td>M</td>\n",
       "      <td>5</td>\n",
       "    </tr>\n",
       "    <tr>\n",
       "      <th>2017</th>\n",
       "      <td>Zhen</td>\n",
       "      <td>M</td>\n",
       "      <td>5</td>\n",
       "    </tr>\n",
       "    <tr>\n",
       "      <th>2017</th>\n",
       "      <td>Zhiyuan</td>\n",
       "      <td>M</td>\n",
       "      <td>5</td>\n",
       "    </tr>\n",
       "    <tr>\n",
       "      <th>2017</th>\n",
       "      <td>Zhyir</td>\n",
       "      <td>M</td>\n",
       "      <td>5</td>\n",
       "    </tr>\n",
       "    <tr>\n",
       "      <th>2017</th>\n",
       "      <td>Zikora</td>\n",
       "      <td>M</td>\n",
       "      <td>5</td>\n",
       "    </tr>\n",
       "    <tr>\n",
       "      <th>2017</th>\n",
       "      <td>Zionn</td>\n",
       "      <td>M</td>\n",
       "      <td>5</td>\n",
       "    </tr>\n",
       "    <tr>\n",
       "      <th>2017</th>\n",
       "      <td>Ziyang</td>\n",
       "      <td>M</td>\n",
       "      <td>5</td>\n",
       "    </tr>\n",
       "    <tr>\n",
       "      <th>2017</th>\n",
       "      <td>Zkari</td>\n",
       "      <td>M</td>\n",
       "      <td>5</td>\n",
       "    </tr>\n",
       "    <tr>\n",
       "      <th>2017</th>\n",
       "      <td>Zohaan</td>\n",
       "      <td>M</td>\n",
       "      <td>5</td>\n",
       "    </tr>\n",
       "    <tr>\n",
       "      <th>2017</th>\n",
       "      <td>Zoren</td>\n",
       "      <td>M</td>\n",
       "      <td>5</td>\n",
       "    </tr>\n",
       "    <tr>\n",
       "      <th>2017</th>\n",
       "      <td>Zorion</td>\n",
       "      <td>M</td>\n",
       "      <td>5</td>\n",
       "    </tr>\n",
       "    <tr>\n",
       "      <th>2017</th>\n",
       "      <td>Zubeyr</td>\n",
       "      <td>M</td>\n",
       "      <td>5</td>\n",
       "    </tr>\n",
       "    <tr>\n",
       "      <th>2017</th>\n",
       "      <td>Zy</td>\n",
       "      <td>M</td>\n",
       "      <td>5</td>\n",
       "    </tr>\n",
       "    <tr>\n",
       "      <th>2017</th>\n",
       "      <td>Zyel</td>\n",
       "      <td>M</td>\n",
       "      <td>5</td>\n",
       "    </tr>\n",
       "    <tr>\n",
       "      <th>2017</th>\n",
       "      <td>Zyheem</td>\n",
       "      <td>M</td>\n",
       "      <td>5</td>\n",
       "    </tr>\n",
       "    <tr>\n",
       "      <th>2017</th>\n",
       "      <td>Zyhier</td>\n",
       "      <td>M</td>\n",
       "      <td>5</td>\n",
       "    </tr>\n",
       "    <tr>\n",
       "      <th>2017</th>\n",
       "      <td>Zykai</td>\n",
       "      <td>M</td>\n",
       "      <td>5</td>\n",
       "    </tr>\n",
       "    <tr>\n",
       "      <th>2017</th>\n",
       "      <td>Zykeem</td>\n",
       "      <td>M</td>\n",
       "      <td>5</td>\n",
       "    </tr>\n",
       "    <tr>\n",
       "      <th>2017</th>\n",
       "      <td>Zylin</td>\n",
       "      <td>M</td>\n",
       "      <td>5</td>\n",
       "    </tr>\n",
       "    <tr>\n",
       "      <th>2017</th>\n",
       "      <td>Zylis</td>\n",
       "      <td>M</td>\n",
       "      <td>5</td>\n",
       "    </tr>\n",
       "    <tr>\n",
       "      <th>2017</th>\n",
       "      <td>Zyrie</td>\n",
       "      <td>M</td>\n",
       "      <td>5</td>\n",
       "    </tr>\n",
       "  </tbody>\n",
       "</table>\n",
       "<p>1924665 rows × 3 columns</p>\n",
       "</div>"
      ],
      "text/plain": [
       "           Name Gender  Count\n",
       "1880       Mary      F   7065\n",
       "1880       Anna      F   2604\n",
       "1880       Emma      F   2003\n",
       "1880  Elizabeth      F   1939\n",
       "1880     Minnie      F   1746\n",
       "1880   Margaret      F   1578\n",
       "1880        Ida      F   1472\n",
       "1880      Alice      F   1414\n",
       "1880     Bertha      F   1320\n",
       "1880      Sarah      F   1288\n",
       "1880      Annie      F   1258\n",
       "1880      Clara      F   1226\n",
       "1880       Ella      F   1156\n",
       "1880   Florence      F   1063\n",
       "1880       Cora      F   1045\n",
       "1880     Martha      F   1040\n",
       "1880      Laura      F   1012\n",
       "1880     Nellie      F    995\n",
       "1880      Grace      F    982\n",
       "1880     Carrie      F    949\n",
       "1880      Maude      F    858\n",
       "1880      Mabel      F    808\n",
       "1880     Bessie      F    796\n",
       "1880     Jennie      F    793\n",
       "1880   Gertrude      F    787\n",
       "1880      Julia      F    783\n",
       "1880     Hattie      F    769\n",
       "1880      Edith      F    768\n",
       "1880     Mattie      F    704\n",
       "1880       Rose      F    700\n",
       "...         ...    ...    ...\n",
       "2017      Zayer      M      5\n",
       "2017      Zayir      M      5\n",
       "2017    Zechari      M      5\n",
       "2017   Zecharia      M      5\n",
       "2017        Zee      M      5\n",
       "2017       Zeid      M      5\n",
       "2017    Zennith      M      5\n",
       "2017        Zeo      M      5\n",
       "2017    Zerrick      M      5\n",
       "2017      Zevon      M      5\n",
       "2017       Zhen      M      5\n",
       "2017    Zhiyuan      M      5\n",
       "2017      Zhyir      M      5\n",
       "2017     Zikora      M      5\n",
       "2017      Zionn      M      5\n",
       "2017     Ziyang      M      5\n",
       "2017      Zkari      M      5\n",
       "2017     Zohaan      M      5\n",
       "2017      Zoren      M      5\n",
       "2017     Zorion      M      5\n",
       "2017     Zubeyr      M      5\n",
       "2017         Zy      M      5\n",
       "2017       Zyel      M      5\n",
       "2017     Zyheem      M      5\n",
       "2017     Zyhier      M      5\n",
       "2017      Zykai      M      5\n",
       "2017     Zykeem      M      5\n",
       "2017      Zylin      M      5\n",
       "2017      Zylis      M      5\n",
       "2017      Zyrie      M      5\n",
       "\n",
       "[1924665 rows x 3 columns]"
      ]
     },
     "execution_count": 6,
     "metadata": {},
     "output_type": "execute_result"
    }
   ],
   "source": [
    "# Делаем ДФ из всех файлов\n",
    "names_by_year = {}\n",
    "for year in range(1880, 2018):\n",
    "    names_by_year[year] = pd.read_csv(\n",
    "        f'names/yob{year}.txt',\n",
    "        names=['Name','Gender','Count']\n",
    "    )\n",
    "names_all = pd.concat(names_by_year)\n",
    "names_all = pd.concat(names_by_year).reset_index(level=1, drop=True)\n",
    "names_all"
   ]
  },
  {
   "cell_type": "markdown",
   "metadata": {},
   "source": [
    "В библиотеку `pandas` встроен wrapper для `matplotlib`.\n",
    "Начнем с самого простого и зачастую удобного способа визуализировать данные из `pandas dataframe` — это воспользоваться методом `plot.`"
   ]
  },
  {
   "cell_type": "code",
   "execution_count": 7,
   "metadata": {},
   "outputs": [
    {
     "data": {
      "text/plain": [
       "<matplotlib.axes._subplots.AxesSubplot at 0xe2f3890>"
      ]
     },
     "execution_count": 7,
     "metadata": {},
     "output_type": "execute_result"
    },
    {
     "data": {
      "image/png": "[encoded data removed]",
      "text/plain": [
       "<Figure size 432x288 with 1 Axes>"
      ]
     },
     "metadata": {
      "needs_background": "light"
     },
     "output_type": "display_data"
    }
   ],
   "source": [
    "# Агрегируем количество имен по годам и по полу\n",
    "gender_dynamics = names_all.groupby([names_all.index, 'Gender']).sum()\n",
    "# gender_dynamics\n",
    "gender_dynamics.unstack('Gender').plot()"
   ]
  },
  {
   "cell_type": "markdown",
   "metadata": {},
   "source": [
    "Построим **столбчатую диаграмму сравнение количества имен мальчиков и девочек в 1880 и 2017 годах**."
   ]
  },
  {
   "cell_type": "code",
   "execution_count": 8,
   "metadata": {},
   "outputs": [
    {
     "data": {
      "text/html": [
       "<div>\n",
       "<style scoped>\n",
       "    .dataframe tbody tr th:only-of-type {\n",
       "        vertical-align: middle;\n",
       "    }\n",
       "\n",
       "    .dataframe tbody tr th {\n",
       "        vertical-align: top;\n",
       "    }\n",
       "\n",
       "    .dataframe thead th {\n",
       "        text-align: right;\n",
       "    }\n",
       "</style>\n",
       "<table border=\"1\" class=\"dataframe\">\n",
       "  <thead>\n",
       "    <tr style=\"text-align: right;\">\n",
       "      <th></th>\n",
       "      <th></th>\n",
       "      <th>Count</th>\n",
       "    </tr>\n",
       "    <tr>\n",
       "      <th></th>\n",
       "      <th>Gender</th>\n",
       "      <th></th>\n",
       "    </tr>\n",
       "  </thead>\n",
       "  <tbody>\n",
       "    <tr>\n",
       "      <th rowspan=\"2\" valign=\"top\">1880</th>\n",
       "      <th>F</th>\n",
       "      <td>90993</td>\n",
       "    </tr>\n",
       "    <tr>\n",
       "      <th>M</th>\n",
       "      <td>110491</td>\n",
       "    </tr>\n",
       "    <tr>\n",
       "      <th rowspan=\"2\" valign=\"top\">2017</th>\n",
       "      <th>F</th>\n",
       "      <td>1711811</td>\n",
       "    </tr>\n",
       "    <tr>\n",
       "      <th>M</th>\n",
       "      <td>1834490</td>\n",
       "    </tr>\n",
       "  </tbody>\n",
       "</table>\n",
       "</div>"
      ],
      "text/plain": [
       "               Count\n",
       "     Gender         \n",
       "1880 F         90993\n",
       "     M        110491\n",
       "2017 F       1711811\n",
       "     M       1834490"
      ]
     },
     "execution_count": 8,
     "metadata": {},
     "output_type": "execute_result"
    }
   ],
   "source": [
    "gender_dynamics = names_all.groupby([names_all.index, 'Gender']).sum()\n",
    "gender_dynamics = gender_dynamics.loc[(gender_dynamics.index.get_level_values(0).isin([1880, 2017]))]\n",
    "gender_dynamics"
   ]
  },
  {
   "cell_type": "markdown",
   "metadata": {},
   "source": [
    "C помощью параметра kind можно изменить тип графика, например, на bar chart. Matplotlib позволяет очень гибко настраивать графики. На графике можно изменить почти все, что угодно, но потребуется порыться в документации и найти нужные параметры. "
   ]
  },
  {
   "cell_type": "code",
   "execution_count": 9,
   "metadata": {},
   "outputs": [
    {
     "data": {
      "text/plain": [
       "<matplotlib.axes._subplots.AxesSubplot at 0xe3f8930>"
      ]
     },
     "execution_count": 9,
     "metadata": {},
     "output_type": "execute_result"
    },
    {
     "data": {
      "image/png": "[encoded data removed]",
      "text/plain": [
       "<Figure size 432x288 with 1 Axes>"
      ]
     },
     "metadata": {
      "needs_background": "light"
     },
     "output_type": "display_data"
    }
   ],
   "source": [
    "gender_dynamics.unstack().plot(kind='bar')"
   ]
  },
  {
   "cell_type": "markdown",
   "metadata": {},
   "source": [
    "Построим **круговую диаграмму сравнения количества топ-5 имен по всем годам**"
   ]
  },
  {
   "cell_type": "code",
   "execution_count": 10,
   "metadata": {},
   "outputs": [
    {
     "data": {
      "text/plain": [
       "<matplotlib.axes._subplots.AxesSubplot at 0xe451e90>"
      ]
     },
     "execution_count": 10,
     "metadata": {},
     "output_type": "execute_result"
    },
    {
     "data": {
      "image/png": "[encoded data removed]",
      "text/plain": [
       "<Figure size 432x288 with 1 Axes>"
      ]
     },
     "metadata": {},
     "output_type": "display_data"
    }
   ],
   "source": [
    "name_dynamics = names_all.groupby(['Name']).sum().sort_values(by='Count', ascending=False).head(5)\n",
    "# name_dynamics\n",
    "name_dynamics.plot(kind='pie', y='Count')"
   ]
  },
  {
   "cell_type": "markdown",
   "metadata": {},
   "source": [
    "Построим `boxplot` распределения длин имен в 2017 году. "
   ]
  },
  {
   "cell_type": "code",
   "execution_count": 11,
   "metadata": {},
   "outputs": [
    {
     "data": {
      "text/plain": [
       "<matplotlib.axes._subplots.AxesSubplot at 0x88a6770>"
      ]
     },
     "execution_count": 11,
     "metadata": {},
     "output_type": "execute_result"
    },
    {
     "data": {
      "image/png": "[encoded data removed]",
      "text/plain": [
       "<Figure size 432x288 with 1 Axes>"
      ]
     },
     "metadata": {
      "needs_background": "light"
     },
     "output_type": "display_data"
    }
   ],
   "source": [
    "names = pd.read_csv(\n",
    "    'names/yob2017.txt', \n",
    "    names=['Name','Gender','Count']\n",
    ")\n",
    "names['Length'] = names['Name'].map(len)\n",
    "# names\n",
    "names['Length'].plot(kind='box')"
   ]
  },
  {
   "cell_type": "markdown",
   "metadata": {},
   "source": [
    "`Box plot` состоит из коробки (поэтому он и называется `box plot`), усиков и точек. Коробка показывает интерквантильный размах распределения, то есть соответственно 25% (`Q1`) и 75% (`Q3`) процентили. Черта внутри коробки обозначает медиану распределения. \n",
    "С коробкой разобрались, перейдем к усам. Усы отображают весь разброс точек кроме выбросов, то есть минимальные и максимальные значения, которые попадают в промежуток `(Q1 - 1.5*IQR, Q3 + 1.5*IQR)`, где `IQR = Q3 - Q1` - интерквантильный размах. Точками на графике обозначаются выбросы (`outliers`) - те значения, которые не вписываются в промежуток значений, заданный усами графика"
   ]
  },
  {
   "cell_type": "markdown",
   "metadata": {},
   "source": [
    "Поработаем с данными о продажах и оценках видео-игр с [Kaggle Datasets](https://www.kaggle.com/rush4ratio/video-game-sales-with-ratings). Данные об оценках игр есть не для всех строк, поэтому сразу оставим только те записи, по которым есть полные данные."
   ]
  },
  {
   "cell_type": "code",
   "execution_count": 12,
   "metadata": {},
   "outputs": [
    {
     "name": "stdout",
     "output_type": "stream",
     "text": [
      "(16719, 16)\n"
     ]
    }
   ],
   "source": [
    "df = pd.read_csv('video_games_sales.csv')\n",
    "print(df.shape)"
   ]
  },
  {
   "cell_type": "code",
   "execution_count": 13,
   "metadata": {},
   "outputs": [
    {
     "name": "stdout",
     "output_type": "stream",
     "text": [
      "<class 'pandas.core.frame.DataFrame'>\n",
      "RangeIndex: 16719 entries, 0 to 16718\n",
      "Data columns (total 16 columns):\n",
      "Name               16717 non-null object\n",
      "Platform           16719 non-null object\n",
      "Year_of_Release    16450 non-null float64\n",
      "Genre              16717 non-null object\n",
      "Publisher          16665 non-null object\n",
      "NA_Sales           16719 non-null float64\n",
      "EU_Sales           16719 non-null float64\n",
      "JP_Sales           16719 non-null float64\n",
      "Other_Sales        16719 non-null float64\n",
      "Global_Sales       16719 non-null float64\n",
      "Critic_Score       8137 non-null float64\n",
      "Critic_Count       8137 non-null float64\n",
      "User_Score         10015 non-null object\n",
      "User_Count         7590 non-null float64\n",
      "Developer          10096 non-null object\n",
      "Rating             9950 non-null object\n",
      "dtypes: float64(9), object(7)\n",
      "memory usage: 1.6+ MB\n"
     ]
    }
   ],
   "source": [
    "df.info()"
   ]
  },
  {
   "cell_type": "code",
   "execution_count": 14,
   "metadata": {},
   "outputs": [
    {
     "name": "stdout",
     "output_type": "stream",
     "text": [
      "(6825, 16)\n"
     ]
    }
   ],
   "source": [
    "df = df.dropna()\n",
    "print(df.shape)"
   ]
  },
  {
   "cell_type": "markdown",
   "metadata": {},
   "source": [
    "Всего в таблице 6825 объектов и 16 признаков для них. Посмотрим на несколько первых записей c помощью метода head, чтобы убедиться, что все распарсилось правильно. Для удобства оставим только те признаки, которые мы будем в дальнейшем использовать."
   ]
  },
  {
   "cell_type": "code",
   "execution_count": 15,
   "metadata": {},
   "outputs": [
    {
     "data": {
      "text/html": [
       "<div>\n",
       "<style scoped>\n",
       "    .dataframe tbody tr th:only-of-type {\n",
       "        vertical-align: middle;\n",
       "    }\n",
       "\n",
       "    .dataframe tbody tr th {\n",
       "        vertical-align: top;\n",
       "    }\n",
       "\n",
       "    .dataframe thead th {\n",
       "        text-align: right;\n",
       "    }\n",
       "</style>\n",
       "<table border=\"1\" class=\"dataframe\">\n",
       "  <thead>\n",
       "    <tr style=\"text-align: right;\">\n",
       "      <th></th>\n",
       "      <th>Name</th>\n",
       "      <th>Platform</th>\n",
       "      <th>Year_of_Release</th>\n",
       "      <th>Genre</th>\n",
       "      <th>Publisher</th>\n",
       "      <th>NA_Sales</th>\n",
       "      <th>EU_Sales</th>\n",
       "      <th>JP_Sales</th>\n",
       "      <th>Other_Sales</th>\n",
       "      <th>Global_Sales</th>\n",
       "      <th>Critic_Score</th>\n",
       "      <th>Critic_Count</th>\n",
       "      <th>User_Score</th>\n",
       "      <th>User_Count</th>\n",
       "      <th>Developer</th>\n",
       "      <th>Rating</th>\n",
       "    </tr>\n",
       "  </thead>\n",
       "  <tbody>\n",
       "    <tr>\n",
       "      <th>0</th>\n",
       "      <td>Wii Sports</td>\n",
       "      <td>Wii</td>\n",
       "      <td>2006.0</td>\n",
       "      <td>Sports</td>\n",
       "      <td>Nintendo</td>\n",
       "      <td>41.36</td>\n",
       "      <td>28.96</td>\n",
       "      <td>3.77</td>\n",
       "      <td>8.45</td>\n",
       "      <td>82.53</td>\n",
       "      <td>76.0</td>\n",
       "      <td>51.0</td>\n",
       "      <td>8</td>\n",
       "      <td>322.0</td>\n",
       "      <td>Nintendo</td>\n",
       "      <td>E</td>\n",
       "    </tr>\n",
       "    <tr>\n",
       "      <th>2</th>\n",
       "      <td>Mario Kart Wii</td>\n",
       "      <td>Wii</td>\n",
       "      <td>2008.0</td>\n",
       "      <td>Racing</td>\n",
       "      <td>Nintendo</td>\n",
       "      <td>15.68</td>\n",
       "      <td>12.76</td>\n",
       "      <td>3.79</td>\n",
       "      <td>3.29</td>\n",
       "      <td>35.52</td>\n",
       "      <td>82.0</td>\n",
       "      <td>73.0</td>\n",
       "      <td>8.3</td>\n",
       "      <td>709.0</td>\n",
       "      <td>Nintendo</td>\n",
       "      <td>E</td>\n",
       "    </tr>\n",
       "    <tr>\n",
       "      <th>3</th>\n",
       "      <td>Wii Sports Resort</td>\n",
       "      <td>Wii</td>\n",
       "      <td>2009.0</td>\n",
       "      <td>Sports</td>\n",
       "      <td>Nintendo</td>\n",
       "      <td>15.61</td>\n",
       "      <td>10.93</td>\n",
       "      <td>3.28</td>\n",
       "      <td>2.95</td>\n",
       "      <td>32.77</td>\n",
       "      <td>80.0</td>\n",
       "      <td>73.0</td>\n",
       "      <td>8</td>\n",
       "      <td>192.0</td>\n",
       "      <td>Nintendo</td>\n",
       "      <td>E</td>\n",
       "    </tr>\n",
       "    <tr>\n",
       "      <th>6</th>\n",
       "      <td>New Super Mario Bros.</td>\n",
       "      <td>DS</td>\n",
       "      <td>2006.0</td>\n",
       "      <td>Platform</td>\n",
       "      <td>Nintendo</td>\n",
       "      <td>11.28</td>\n",
       "      <td>9.14</td>\n",
       "      <td>6.50</td>\n",
       "      <td>2.88</td>\n",
       "      <td>29.80</td>\n",
       "      <td>89.0</td>\n",
       "      <td>65.0</td>\n",
       "      <td>8.5</td>\n",
       "      <td>431.0</td>\n",
       "      <td>Nintendo</td>\n",
       "      <td>E</td>\n",
       "    </tr>\n",
       "    <tr>\n",
       "      <th>7</th>\n",
       "      <td>Wii Play</td>\n",
       "      <td>Wii</td>\n",
       "      <td>2006.0</td>\n",
       "      <td>Misc</td>\n",
       "      <td>Nintendo</td>\n",
       "      <td>13.96</td>\n",
       "      <td>9.18</td>\n",
       "      <td>2.93</td>\n",
       "      <td>2.84</td>\n",
       "      <td>28.92</td>\n",
       "      <td>58.0</td>\n",
       "      <td>41.0</td>\n",
       "      <td>6.6</td>\n",
       "      <td>129.0</td>\n",
       "      <td>Nintendo</td>\n",
       "      <td>E</td>\n",
       "    </tr>\n",
       "  </tbody>\n",
       "</table>\n",
       "</div>"
      ],
      "text/plain": [
       "                    Name Platform  Year_of_Release     Genre Publisher  \\\n",
       "0             Wii Sports      Wii           2006.0    Sports  Nintendo   \n",
       "2         Mario Kart Wii      Wii           2008.0    Racing  Nintendo   \n",
       "3      Wii Sports Resort      Wii           2009.0    Sports  Nintendo   \n",
       "6  New Super Mario Bros.       DS           2006.0  Platform  Nintendo   \n",
       "7               Wii Play      Wii           2006.0      Misc  Nintendo   \n",
       "\n",
       "   NA_Sales  EU_Sales  JP_Sales  Other_Sales  Global_Sales  Critic_Score  \\\n",
       "0     41.36     28.96      3.77         8.45         82.53          76.0   \n",
       "2     15.68     12.76      3.79         3.29         35.52          82.0   \n",
       "3     15.61     10.93      3.28         2.95         32.77          80.0   \n",
       "6     11.28      9.14      6.50         2.88         29.80          89.0   \n",
       "7     13.96      9.18      2.93         2.84         28.92          58.0   \n",
       "\n",
       "   Critic_Count User_Score  User_Count Developer Rating  \n",
       "0          51.0          8       322.0  Nintendo      E  \n",
       "2          73.0        8.3       709.0  Nintendo      E  \n",
       "3          73.0          8       192.0  Nintendo      E  \n",
       "6          65.0        8.5       431.0  Nintendo      E  \n",
       "7          41.0        6.6       129.0  Nintendo      E  "
      ]
     },
     "execution_count": 15,
     "metadata": {},
     "output_type": "execute_result"
    }
   ],
   "source": [
    "df.head()"
   ]
  },
  {
   "cell_type": "code",
   "execution_count": 16,
   "metadata": {},
   "outputs": [],
   "source": [
    "df['User_Score'] = df.User_Score.astype('float64')\n",
    "df['Year_of_Release'] = df.Year_of_Release.astype('int64')\n",
    "df['User_Count'] = df.User_Count.astype('int64')\n",
    "df['Critic_Count'] = df.Critic_Count.astype('int64')"
   ]
  },
  {
   "cell_type": "markdown",
   "metadata": {},
   "source": [
    "Построим **график продаж видео игр в различных странах в зависимости от года**. Для начала отфильтруем только нужные нам столбцы, затем посчитаем суммарные продажи по годам."
   ]
  },
  {
   "cell_type": "code",
   "execution_count": 17,
   "metadata": {},
   "outputs": [
    {
     "data": {
      "text/plain": [
       "['NA_Sales', 'EU_Sales', 'JP_Sales', 'Other_Sales', 'Global_Sales']"
      ]
     },
     "execution_count": 17,
     "metadata": {},
     "output_type": "execute_result"
    }
   ],
   "source": [
    "[x for x in df.columns if 'Sales' in x]"
   ]
  },
  {
   "cell_type": "code",
   "execution_count": 18,
   "metadata": {},
   "outputs": [
    {
     "data": {
      "text/html": [
       "<div>\n",
       "<style scoped>\n",
       "    .dataframe tbody tr th:only-of-type {\n",
       "        vertical-align: middle;\n",
       "    }\n",
       "\n",
       "    .dataframe tbody tr th {\n",
       "        vertical-align: top;\n",
       "    }\n",
       "\n",
       "    .dataframe thead th {\n",
       "        text-align: right;\n",
       "    }\n",
       "</style>\n",
       "<table border=\"1\" class=\"dataframe\">\n",
       "  <thead>\n",
       "    <tr style=\"text-align: right;\">\n",
       "      <th></th>\n",
       "      <th>NA_Sales</th>\n",
       "      <th>EU_Sales</th>\n",
       "      <th>JP_Sales</th>\n",
       "      <th>Other_Sales</th>\n",
       "      <th>Global_Sales</th>\n",
       "    </tr>\n",
       "    <tr>\n",
       "      <th>Year_of_Release</th>\n",
       "      <th></th>\n",
       "      <th></th>\n",
       "      <th></th>\n",
       "      <th></th>\n",
       "      <th></th>\n",
       "    </tr>\n",
       "  </thead>\n",
       "  <tbody>\n",
       "    <tr>\n",
       "      <th>1985</th>\n",
       "      <td>0.00</td>\n",
       "      <td>0.03</td>\n",
       "      <td>0.00</td>\n",
       "      <td>0.01</td>\n",
       "      <td>0.03</td>\n",
       "    </tr>\n",
       "    <tr>\n",
       "      <th>1988</th>\n",
       "      <td>0.00</td>\n",
       "      <td>0.02</td>\n",
       "      <td>0.00</td>\n",
       "      <td>0.01</td>\n",
       "      <td>0.03</td>\n",
       "    </tr>\n",
       "    <tr>\n",
       "      <th>1992</th>\n",
       "      <td>0.02</td>\n",
       "      <td>0.00</td>\n",
       "      <td>0.00</td>\n",
       "      <td>0.00</td>\n",
       "      <td>0.03</td>\n",
       "    </tr>\n",
       "    <tr>\n",
       "      <th>1994</th>\n",
       "      <td>0.39</td>\n",
       "      <td>0.26</td>\n",
       "      <td>0.53</td>\n",
       "      <td>0.08</td>\n",
       "      <td>1.27</td>\n",
       "    </tr>\n",
       "    <tr>\n",
       "      <th>1996</th>\n",
       "      <td>7.91</td>\n",
       "      <td>6.88</td>\n",
       "      <td>4.06</td>\n",
       "      <td>1.24</td>\n",
       "      <td>20.10</td>\n",
       "    </tr>\n",
       "  </tbody>\n",
       "</table>\n",
       "</div>"
      ],
      "text/plain": [
       "                 NA_Sales  EU_Sales  JP_Sales  Other_Sales  Global_Sales\n",
       "Year_of_Release                                                         \n",
       "1985                 0.00      0.03      0.00         0.01          0.03\n",
       "1988                 0.00      0.02      0.00         0.01          0.03\n",
       "1992                 0.02      0.00      0.00         0.00          0.03\n",
       "1994                 0.39      0.26      0.53         0.08          1.27\n",
       "1996                 7.91      6.88      4.06         1.24         20.10"
      ]
     },
     "execution_count": 18,
     "metadata": {},
     "output_type": "execute_result"
    }
   ],
   "source": [
    "df1 = df[[x for x in df.columns if 'Sales' in x] + ['Year_of_Release']]\\\n",
    "    .groupby('Year_of_Release').sum()\n",
    "df1.head()"
   ]
  },
  {
   "cell_type": "code",
   "execution_count": 19,
   "metadata": {},
   "outputs": [
    {
     "data": {
      "text/plain": [
       "<matplotlib.axes._subplots.AxesSubplot at 0xe499310>"
      ]
     },
     "execution_count": 19,
     "metadata": {},
     "output_type": "execute_result"
    },
    {
     "data": {
      "image/png": "[encoded data removed]",
      "text/plain": [
       "<Figure size 432x288 with 1 Axes>"
      ]
     },
     "metadata": {
      "needs_background": "light"
     },
     "output_type": "display_data"
    }
   ],
   "source": [
    "df1.plot()"
   ]
  },
  {
   "cell_type": "code",
   "execution_count": 20,
   "metadata": {},
   "outputs": [
    {
     "data": {
      "text/plain": [
       "<matplotlib.axes._subplots.AxesSubplot at 0xe40ac10>"
      ]
     },
     "execution_count": 20,
     "metadata": {},
     "output_type": "execute_result"
    },
    {
     "data": {
      "image/png": "[encoded data removed]",
      "text/plain": [
       "<Figure size 432x288 with 1 Axes>"
      ]
     },
     "metadata": {
      "needs_background": "light"
     },
     "output_type": "display_data"
    }
   ],
   "source": [
    "# Параметр rot отвечает за угол наклона подписей к оси x.\n",
    "df1.plot(kind='bar', rot=45)"
   ]
  },
  {
   "cell_type": "markdown",
   "metadata": {},
   "source": [
    "Или можем сделать stacked bar chart, чтобы показать и динамику продаж и их разбиение по рынкам."
   ]
  },
  {
   "cell_type": "code",
   "execution_count": 21,
   "metadata": {},
   "outputs": [
    {
     "data": {
      "text/plain": [
       "<matplotlib.axes._subplots.AxesSubplot at 0xe761ef0>"
      ]
     },
     "execution_count": 21,
     "metadata": {},
     "output_type": "execute_result"
    },
    {
     "data": {
      "image/png": "[encoded data removed]",
      "text/plain": [
       "<Figure size 432x288 with 1 Axes>"
      ]
     },
     "metadata": {
      "needs_background": "light"
     },
     "output_type": "display_data"
    }
   ],
   "source": [
    "df1[list(filter(lambda x: x != 'Global_Sales', df1.columns))]\\\n",
    "    .plot(kind='bar', rot=45, stacked=True)"
   ]
  },
  {
   "cell_type": "code",
   "execution_count": 22,
   "metadata": {},
   "outputs": [
    {
     "data": {
      "text/plain": [
       "<matplotlib.axes._subplots.AxesSubplot at 0xe8083d0>"
      ]
     },
     "execution_count": 22,
     "metadata": {},
     "output_type": "execute_result"
    },
    {
     "data": {
      "image/png": "[encoded data removed]",
      "text/plain": [
       "<Figure size 432x288 with 1 Axes>"
      ]
     },
     "metadata": {
      "needs_background": "light"
     },
     "output_type": "display_data"
    }
   ],
   "source": [
    "df1[list(filter(lambda x: x != 'Global_Sales', df1.columns))]\\\n",
    "    .plot(kind='area', rot=45, stacked=False)"
   ]
  },
  {
   "cell_type": "markdown",
   "metadata": {},
   "source": [
    "Еще один часто встречающийся тип графиков - это гистограммы. Посмотрим на **распределение оценок критиков**."
   ]
  },
  {
   "cell_type": "code",
   "execution_count": 23,
   "metadata": {
    "scrolled": true
   },
   "outputs": [
    {
     "data": {
      "text/plain": [
       "<matplotlib.axes._subplots.AxesSubplot at 0xe893070>"
      ]
     },
     "execution_count": 23,
     "metadata": {},
     "output_type": "execute_result"
    },
    {
     "data": {
      "image/png": "[encoded data removed]",
      "text/plain": [
       "<Figure size 432x288 with 1 Axes>"
      ]
     },
     "metadata": {
      "needs_background": "light"
     },
     "output_type": "display_data"
    }
   ],
   "source": [
    "df.Critic_Score.hist()"
   ]
  },
  {
   "cell_type": "code",
   "execution_count": 24,
   "metadata": {},
   "outputs": [
    {
     "data": {
      "text/plain": [
       "Text(0, 0.5, 'games')"
      ]
     },
     "execution_count": 24,
     "metadata": {},
     "output_type": "execute_result"
    },
    {
     "data": {
      "image/png": "[encoded data removed]",
      "text/plain": [
       "<Figure size 432x288 with 1 Axes>"
      ]
     },
     "metadata": {
      "needs_background": "light"
     },
     "output_type": "display_data"
    }
   ],
   "source": [
    "ax = df.Critic_Score.hist()\n",
    "ax.set_title('Critic Score distribution')\n",
    "ax.set_xlabel('critic score')\n",
    "ax.set_ylabel('games')"
   ]
  },
  {
   "cell_type": "markdown",
   "metadata": {},
   "source": [
    "У гистограмм можно контролировать, на сколько групп мы разбиваем распределение с помощью параметра `bins`."
   ]
  },
  {
   "cell_type": "code",
   "execution_count": 25,
   "metadata": {},
   "outputs": [
    {
     "data": {
      "text/plain": [
       "Text(0, 0.5, 'games')"
      ]
     },
     "execution_count": 25,
     "metadata": {},
     "output_type": "execute_result"
    },
    {
     "data": {
      "image/png": "[encoded data removed]",
      "text/plain": [
       "<Figure size 432x288 with 1 Axes>"
      ]
     },
     "metadata": {
      "needs_background": "light"
     },
     "output_type": "display_data"
    }
   ],
   "source": [
    "ax = df.Critic_Score.hist(bins=25)\n",
    "ax.set_title('Critic Score distribution')\n",
    "ax.set_xlabel('critic score')\n",
    "ax.set_ylabel('games')"
   ]
  },
  {
   "cell_type": "markdown",
   "metadata": {},
   "source": [
    "Познакомимся с тем, как в pandas можно стилизовать таблицы."
   ]
  },
  {
   "cell_type": "code",
   "execution_count": 26,
   "metadata": {},
   "outputs": [
    {
     "data": {
      "text/html": [
       "<div>\n",
       "<style scoped>\n",
       "    .dataframe tbody tr th:only-of-type {\n",
       "        vertical-align: middle;\n",
       "    }\n",
       "\n",
       "    .dataframe tbody tr th {\n",
       "        vertical-align: top;\n",
       "    }\n",
       "\n",
       "    .dataframe thead th {\n",
       "        text-align: right;\n",
       "    }\n",
       "</style>\n",
       "<table border=\"1\" class=\"dataframe\">\n",
       "  <thead>\n",
       "    <tr style=\"text-align: right;\">\n",
       "      <th></th>\n",
       "      <th>Global_Sales</th>\n",
       "    </tr>\n",
       "    <tr>\n",
       "      <th>Developer</th>\n",
       "      <th></th>\n",
       "    </tr>\n",
       "  </thead>\n",
       "  <tbody>\n",
       "    <tr>\n",
       "      <th>Nintendo</th>\n",
       "      <td>529.90</td>\n",
       "    </tr>\n",
       "    <tr>\n",
       "      <th>EA Sports</th>\n",
       "      <td>145.93</td>\n",
       "    </tr>\n",
       "    <tr>\n",
       "      <th>EA Canada</th>\n",
       "      <td>131.46</td>\n",
       "    </tr>\n",
       "    <tr>\n",
       "      <th>Rockstar North</th>\n",
       "      <td>119.47</td>\n",
       "    </tr>\n",
       "    <tr>\n",
       "      <th>Capcom</th>\n",
       "      <td>114.52</td>\n",
       "    </tr>\n",
       "    <tr>\n",
       "      <th>Treyarch</th>\n",
       "      <td>101.37</td>\n",
       "    </tr>\n",
       "    <tr>\n",
       "      <th>Ubisoft Montreal</th>\n",
       "      <td>101.24</td>\n",
       "    </tr>\n",
       "    <tr>\n",
       "      <th>Ubisoft</th>\n",
       "      <td>94.53</td>\n",
       "    </tr>\n",
       "    <tr>\n",
       "      <th>EA Tiburon</th>\n",
       "      <td>79.77</td>\n",
       "    </tr>\n",
       "    <tr>\n",
       "      <th>Infinity Ward</th>\n",
       "      <td>77.56</td>\n",
       "    </tr>\n",
       "  </tbody>\n",
       "</table>\n",
       "</div>"
      ],
      "text/plain": [
       "                  Global_Sales\n",
       "Developer                     \n",
       "Nintendo                529.90\n",
       "EA Sports               145.93\n",
       "EA Canada               131.46\n",
       "Rockstar North          119.47\n",
       "Capcom                  114.52\n",
       "Treyarch                101.37\n",
       "Ubisoft Montreal        101.24\n",
       "Ubisoft                  94.53\n",
       "EA Tiburon               79.77\n",
       "Infinity Ward            77.56"
      ]
     },
     "execution_count": 26,
     "metadata": {},
     "output_type": "execute_result"
    }
   ],
   "source": [
    "top_developers_df = df.groupby('Developer')[['Global_Sales']].sum()\\\n",
    "    .sort_values('Global_Sales', ascending=False).head(10)\n",
    "    \n",
    "top_developers_df"
   ]
  },
  {
   "cell_type": "code",
   "execution_count": 27,
   "metadata": {},
   "outputs": [
    {
     "data": {
      "text/html": [
       "<style  type=\"text/css\" >\n",
       "    #T_6b289234_4d52_11ea_b8a5_2c44fd2d1ef5row0_col0 {\n",
       "            width:  10em;\n",
       "             height:  80%;\n",
       "            background:  linear-gradient(90deg,#d65f5f 100.0%, transparent 0%);\n",
       "        }    #T_6b289234_4d52_11ea_b8a5_2c44fd2d1ef5row1_col0 {\n",
       "            width:  10em;\n",
       "             height:  80%;\n",
       "            background:  linear-gradient(90deg,#d65f5f 15.1%, transparent 0%);\n",
       "        }    #T_6b289234_4d52_11ea_b8a5_2c44fd2d1ef5row2_col0 {\n",
       "            width:  10em;\n",
       "             height:  80%;\n",
       "            background:  linear-gradient(90deg,#d65f5f 11.9%, transparent 0%);\n",
       "        }    #T_6b289234_4d52_11ea_b8a5_2c44fd2d1ef5row3_col0 {\n",
       "            width:  10em;\n",
       "             height:  80%;\n",
       "            background:  linear-gradient(90deg,#d65f5f 9.3%, transparent 0%);\n",
       "        }    #T_6b289234_4d52_11ea_b8a5_2c44fd2d1ef5row4_col0 {\n",
       "            width:  10em;\n",
       "             height:  80%;\n",
       "            background:  linear-gradient(90deg,#d65f5f 8.2%, transparent 0%);\n",
       "        }    #T_6b289234_4d52_11ea_b8a5_2c44fd2d1ef5row5_col0 {\n",
       "            width:  10em;\n",
       "             height:  80%;\n",
       "            background:  linear-gradient(90deg,#d65f5f 5.3%, transparent 0%);\n",
       "        }    #T_6b289234_4d52_11ea_b8a5_2c44fd2d1ef5row6_col0 {\n",
       "            width:  10em;\n",
       "             height:  80%;\n",
       "            background:  linear-gradient(90deg,#d65f5f 5.2%, transparent 0%);\n",
       "        }    #T_6b289234_4d52_11ea_b8a5_2c44fd2d1ef5row7_col0 {\n",
       "            width:  10em;\n",
       "             height:  80%;\n",
       "            background:  linear-gradient(90deg,#d65f5f 3.8%, transparent 0%);\n",
       "        }    #T_6b289234_4d52_11ea_b8a5_2c44fd2d1ef5row8_col0 {\n",
       "            width:  10em;\n",
       "             height:  80%;\n",
       "            background:  linear-gradient(90deg,#d65f5f 0.5%, transparent 0%);\n",
       "        }    #T_6b289234_4d52_11ea_b8a5_2c44fd2d1ef5row9_col0 {\n",
       "            width:  10em;\n",
       "             height:  80%;\n",
       "        }</style>  \n",
       "<table id=\"T_6b289234_4d52_11ea_b8a5_2c44fd2d1ef5\" > \n",
       "<thead>    <tr> \n",
       "        <th class=\"blank level0\" ></th> \n",
       "        <th class=\"col_heading level0 col0\" >Global_Sales</th> \n",
       "    </tr>    <tr> \n",
       "        <th class=\"index_name level0\" >Developer</th> \n",
       "        <th class=\"blank\" ></th> \n",
       "    </tr></thead> \n",
       "<tbody>    <tr> \n",
       "        <th id=\"T_6b289234_4d52_11ea_b8a5_2c44fd2d1ef5level0_row0\" class=\"row_heading level0 row0\" >Nintendo</th> \n",
       "        <td id=\"T_6b289234_4d52_11ea_b8a5_2c44fd2d1ef5row0_col0\" class=\"data row0 col0\" >529.9</td> \n",
       "    </tr>    <tr> \n",
       "        <th id=\"T_6b289234_4d52_11ea_b8a5_2c44fd2d1ef5level0_row1\" class=\"row_heading level0 row1\" >EA Sports</th> \n",
       "        <td id=\"T_6b289234_4d52_11ea_b8a5_2c44fd2d1ef5row1_col0\" class=\"data row1 col0\" >145.93</td> \n",
       "    </tr>    <tr> \n",
       "        <th id=\"T_6b289234_4d52_11ea_b8a5_2c44fd2d1ef5level0_row2\" class=\"row_heading level0 row2\" >EA Canada</th> \n",
       "        <td id=\"T_6b289234_4d52_11ea_b8a5_2c44fd2d1ef5row2_col0\" class=\"data row2 col0\" >131.46</td> \n",
       "    </tr>    <tr> \n",
       "        <th id=\"T_6b289234_4d52_11ea_b8a5_2c44fd2d1ef5level0_row3\" class=\"row_heading level0 row3\" >Rockstar North</th> \n",
       "        <td id=\"T_6b289234_4d52_11ea_b8a5_2c44fd2d1ef5row3_col0\" class=\"data row3 col0\" >119.47</td> \n",
       "    </tr>    <tr> \n",
       "        <th id=\"T_6b289234_4d52_11ea_b8a5_2c44fd2d1ef5level0_row4\" class=\"row_heading level0 row4\" >Capcom</th> \n",
       "        <td id=\"T_6b289234_4d52_11ea_b8a5_2c44fd2d1ef5row4_col0\" class=\"data row4 col0\" >114.52</td> \n",
       "    </tr>    <tr> \n",
       "        <th id=\"T_6b289234_4d52_11ea_b8a5_2c44fd2d1ef5level0_row5\" class=\"row_heading level0 row5\" >Treyarch</th> \n",
       "        <td id=\"T_6b289234_4d52_11ea_b8a5_2c44fd2d1ef5row5_col0\" class=\"data row5 col0\" >101.37</td> \n",
       "    </tr>    <tr> \n",
       "        <th id=\"T_6b289234_4d52_11ea_b8a5_2c44fd2d1ef5level0_row6\" class=\"row_heading level0 row6\" >Ubisoft Montreal</th> \n",
       "        <td id=\"T_6b289234_4d52_11ea_b8a5_2c44fd2d1ef5row6_col0\" class=\"data row6 col0\" >101.24</td> \n",
       "    </tr>    <tr> \n",
       "        <th id=\"T_6b289234_4d52_11ea_b8a5_2c44fd2d1ef5level0_row7\" class=\"row_heading level0 row7\" >Ubisoft</th> \n",
       "        <td id=\"T_6b289234_4d52_11ea_b8a5_2c44fd2d1ef5row7_col0\" class=\"data row7 col0\" >94.53</td> \n",
       "    </tr>    <tr> \n",
       "        <th id=\"T_6b289234_4d52_11ea_b8a5_2c44fd2d1ef5level0_row8\" class=\"row_heading level0 row8\" >EA Tiburon</th> \n",
       "        <td id=\"T_6b289234_4d52_11ea_b8a5_2c44fd2d1ef5row8_col0\" class=\"data row8 col0\" >79.77</td> \n",
       "    </tr>    <tr> \n",
       "        <th id=\"T_6b289234_4d52_11ea_b8a5_2c44fd2d1ef5level0_row9\" class=\"row_heading level0 row9\" >Infinity Ward</th> \n",
       "        <td id=\"T_6b289234_4d52_11ea_b8a5_2c44fd2d1ef5row9_col0\" class=\"data row9 col0\" >77.56</td> \n",
       "    </tr></tbody> \n",
       "</table> "
      ],
      "text/plain": [
       "<pandas.io.formats.style.Styler at 0xe91fd70>"
      ]
     },
     "execution_count": 27,
     "metadata": {},
     "output_type": "execute_result"
    }
   ],
   "source": [
    "top_developers_df.style.bar()"
   ]
  },
  {
   "cell_type": "markdown",
   "metadata": {},
   "source": [
    "### Полезные ссылки\n",
    " * [Документация pandas.plot](https://pandas.pydata.org/pandas-docs/stable/visualization.html)\n",
    " * [Документация pandas.style](http://pandas.pydata.org/pandas-docs/stable/style.html)\n",
    " * [Документация matplotlib](https://matplotlib.org/)"
   ]
  },
  {
   "cell_type": "markdown",
   "metadata": {},
   "source": [
    "## <center>Часть 2. Seaborn\n",
    "\n",
    "Теперь давайте перейдем к библиотеке seaborn. Seaborn — это по сути более высокоуровневое API на базе библиотеки matplotlib. Seaborn содержит более адекватные дефолтные настройки оформления графиков. Также в библиотеке есть достаточно сложные типы визуализации, которые в matplotlib потребовали бы большого количество кода.\n",
    "\n",
    "Познакомимся с первым таким \"сложным\" типом графиков **pair plot (scatter plot matrix)**. Эта визуализация поможет нам посмотреть на одной картинке, как связаны между собой различные признаки. "
   ]
  },
  {
   "cell_type": "code",
   "execution_count": 28,
   "metadata": {},
   "outputs": [],
   "source": [
    "import seaborn as sns"
   ]
  },
  {
   "cell_type": "code",
   "execution_count": 29,
   "metadata": {},
   "outputs": [
    {
     "data": {
      "text/plain": [
       "<seaborn.axisgrid.PairGrid at 0x10c32090>"
      ]
     },
     "execution_count": 29,
     "metadata": {},
     "output_type": "execute_result"
    },
    {
     "data": {
      "image/png": "[encoded data removed]",
      "text/plain": [
       "<Figure size 540x540 with 12 Axes>"
      ]
     },
     "metadata": {
      "needs_background": "light"
     },
     "output_type": "display_data"
    }
   ],
   "source": [
    "sns_plot = sns.pairplot(\n",
    "    df[['Global_Sales', 'Critic_Score', 'User_Score']])\n",
    "sns_plot"
   ]
  },
  {
   "cell_type": "markdown",
   "metadata": {},
   "source": [
    "Также с помощью `seaborn` можно построить распределение, для примера посмотрим на **распределение оценок критиков `Critic_Score`**. Для этого построим __`distplot`__. По default'у на графике отображается гистограмма и [kernel density estimation](https://en.wikipedia.org/wiki/Kernel_density_estimation)."
   ]
  },
  {
   "cell_type": "code",
   "execution_count": 30,
   "metadata": {},
   "outputs": [
    {
     "name": "stderr",
     "output_type": "stream",
     "text": [
      "D:\\Python\\Anaconda3\\lib\\site-packages\\scipy\\stats\\stats.py:1713: FutureWarning: Using a non-tuple sequence for multidimensional indexing is deprecated; use `arr[tuple(seq)]` instead of `arr[seq]`. In the future this will be interpreted as an array index, `arr[np.array(seq)]`, which will result either in an error or a different result.\n",
      "  return np.add.reduce(sorted[indexer] * weights, axis=axis) / sumval\n"
     ]
    },
    {
     "data": {
      "text/plain": [
       "<matplotlib.axes._subplots.AxesSubplot at 0x10dab750>"
      ]
     },
     "execution_count": 30,
     "metadata": {},
     "output_type": "execute_result"
    },
    {
     "data": {
      "image/png": "[encoded data removed]",
      "text/plain": [
       "<Figure size 432x288 with 1 Axes>"
      ]
     },
     "metadata": {
      "needs_background": "light"
     },
     "output_type": "display_data"
    }
   ],
   "source": [
    "sns.distplot(df.Critic_Score)"
   ]
  },
  {
   "cell_type": "markdown",
   "metadata": {},
   "source": [
    "Для того чтобы подробнее посмотреть на взаимосвязь двух численных признаков, есть еще и __`joint_plot`__ – это гибрид `scatter plot` и `histogram` (отображаются также гистограммы распределений признаков). Посмотрим на то, как связаны между собой **оценка критиков `Critic_Score` и оценка пользователя `User_Score`**."
   ]
  },
  {
   "cell_type": "code",
   "execution_count": 31,
   "metadata": {},
   "outputs": [
    {
     "data": {
      "text/plain": [
       "<seaborn.axisgrid.JointGrid at 0x46c4c10>"
      ]
     },
     "execution_count": 31,
     "metadata": {},
     "output_type": "execute_result"
    },
    {
     "data": {
      "image/png": "[encoded data removed]",
      "text/plain": [
       "<Figure size 432x432 with 3 Axes>"
      ]
     },
     "metadata": {
      "needs_background": "light"
     },
     "output_type": "display_data"
    }
   ],
   "source": [
    "sns.jointplot(x='Critic_Score', y='User_Score', \n",
    "              data=df, kind='scatter')"
   ]
  },
  {
   "cell_type": "code",
   "execution_count": 32,
   "metadata": {},
   "outputs": [
    {
     "data": {
      "text/plain": [
       "<seaborn.axisgrid.JointGrid at 0x10f0a6b0>"
      ]
     },
     "execution_count": 32,
     "metadata": {},
     "output_type": "execute_result"
    },
    {
     "data": {
      "image/png": "[encoded data removed]",
      "text/plain": [
       "<Figure size 432x432 with 3 Axes>"
      ]
     },
     "metadata": {
      "needs_background": "light"
     },
     "output_type": "display_data"
    }
   ],
   "source": [
    "sns.jointplot(x='Critic_Score', y='User_Score', \n",
    "              data=df, kind='reg')"
   ]
  },
  {
   "cell_type": "markdown",
   "metadata": {},
   "source": [
    "Давайте **сравним пользовательские оценки игр для топ-5 крупнейших игровых платформ** при помощи `boxplot`."
   ]
  },
  {
   "cell_type": "code",
   "execution_count": 34,
   "metadata": {},
   "outputs": [
    {
     "data": {
      "image/png": "[encoded data removed]",
      "text/plain": [
       "<Figure size 432x288 with 1 Axes>"
      ]
     },
     "metadata": {
      "needs_background": "light"
     },
     "output_type": "display_data"
    }
   ],
   "source": [
    "top_platforms = df.Platform.value_counts().sort_values(ascending = False).head(5).index.values\n",
    "top_platforms\n",
    "ax = sns.boxplot(x=\"Platform\", y=\"User_Score\", \n",
    "            data=df[df.Platform.isin(top_platforms)])\n"
   ]
  },
  {
   "cell_type": "markdown",
   "metadata": {},
   "source": [
    "И еще один тип графиков (последний из тех, которые мы рассмотрим в этой части) - это __`heat map`__. `Heat map` позволяет посмотреть на распределение какого-то численного признака по двум категориальным. Визуализируем **суммарные продажи игр по жанрам и игровым платформам**."
   ]
  },
  {
   "cell_type": "code",
   "execution_count": 35,
   "metadata": {},
   "outputs": [
    {
     "data": {
      "text/html": [
       "<div>\n",
       "<style scoped>\n",
       "    .dataframe tbody tr th:only-of-type {\n",
       "        vertical-align: middle;\n",
       "    }\n",
       "\n",
       "    .dataframe tbody tr th {\n",
       "        vertical-align: top;\n",
       "    }\n",
       "\n",
       "    .dataframe thead th {\n",
       "        text-align: right;\n",
       "    }\n",
       "</style>\n",
       "<table border=\"1\" class=\"dataframe\">\n",
       "  <thead>\n",
       "    <tr style=\"text-align: right;\">\n",
       "      <th>Genre</th>\n",
       "      <th>Action</th>\n",
       "      <th>Adventure</th>\n",
       "      <th>Fighting</th>\n",
       "      <th>Misc</th>\n",
       "      <th>Platform</th>\n",
       "      <th>Puzzle</th>\n",
       "      <th>Racing</th>\n",
       "      <th>Role-Playing</th>\n",
       "      <th>Shooter</th>\n",
       "      <th>Simulation</th>\n",
       "      <th>Sports</th>\n",
       "      <th>Strategy</th>\n",
       "    </tr>\n",
       "    <tr>\n",
       "      <th>Platform</th>\n",
       "      <th></th>\n",
       "      <th></th>\n",
       "      <th></th>\n",
       "      <th></th>\n",
       "      <th></th>\n",
       "      <th></th>\n",
       "      <th></th>\n",
       "      <th></th>\n",
       "      <th></th>\n",
       "      <th></th>\n",
       "      <th></th>\n",
       "      <th></th>\n",
       "    </tr>\n",
       "  </thead>\n",
       "  <tbody>\n",
       "    <tr>\n",
       "      <th>3DS</th>\n",
       "      <td>30.81</td>\n",
       "      <td>2.00</td>\n",
       "      <td>2.63</td>\n",
       "      <td>4.48</td>\n",
       "      <td>27.61</td>\n",
       "      <td>2.63</td>\n",
       "      <td>13.89</td>\n",
       "      <td>18.94</td>\n",
       "      <td>1.02</td>\n",
       "      <td>16.08</td>\n",
       "      <td>2.20</td>\n",
       "      <td>0.94</td>\n",
       "    </tr>\n",
       "    <tr>\n",
       "      <th>DC</th>\n",
       "      <td>0.00</td>\n",
       "      <td>1.33</td>\n",
       "      <td>0.56</td>\n",
       "      <td>0.00</td>\n",
       "      <td>0.12</td>\n",
       "      <td>0.00</td>\n",
       "      <td>0.20</td>\n",
       "      <td>0.68</td>\n",
       "      <td>0.05</td>\n",
       "      <td>0.52</td>\n",
       "      <td>1.09</td>\n",
       "      <td>0.00</td>\n",
       "    </tr>\n",
       "    <tr>\n",
       "      <th>DS</th>\n",
       "      <td>42.43</td>\n",
       "      <td>8.83</td>\n",
       "      <td>3.37</td>\n",
       "      <td>68.82</td>\n",
       "      <td>55.02</td>\n",
       "      <td>50.50</td>\n",
       "      <td>29.93</td>\n",
       "      <td>60.31</td>\n",
       "      <td>6.40</td>\n",
       "      <td>42.71</td>\n",
       "      <td>6.01</td>\n",
       "      <td>8.00</td>\n",
       "    </tr>\n",
       "    <tr>\n",
       "      <th>GBA</th>\n",
       "      <td>23.21</td>\n",
       "      <td>4.54</td>\n",
       "      <td>3.28</td>\n",
       "      <td>8.59</td>\n",
       "      <td>40.36</td>\n",
       "      <td>5.47</td>\n",
       "      <td>12.60</td>\n",
       "      <td>21.00</td>\n",
       "      <td>1.40</td>\n",
       "      <td>2.03</td>\n",
       "      <td>5.93</td>\n",
       "      <td>3.34</td>\n",
       "    </tr>\n",
       "    <tr>\n",
       "      <th>GC</th>\n",
       "      <td>29.99</td>\n",
       "      <td>4.56</td>\n",
       "      <td>15.81</td>\n",
       "      <td>12.72</td>\n",
       "      <td>24.67</td>\n",
       "      <td>3.31</td>\n",
       "      <td>11.09</td>\n",
       "      <td>12.48</td>\n",
       "      <td>13.04</td>\n",
       "      <td>8.39</td>\n",
       "      <td>19.91</td>\n",
       "      <td>3.45</td>\n",
       "    </tr>\n",
       "    <tr>\n",
       "      <th>PC</th>\n",
       "      <td>25.45</td>\n",
       "      <td>1.42</td>\n",
       "      <td>0.13</td>\n",
       "      <td>3.02</td>\n",
       "      <td>0.46</td>\n",
       "      <td>0.19</td>\n",
       "      <td>3.18</td>\n",
       "      <td>44.68</td>\n",
       "      <td>36.34</td>\n",
       "      <td>40.34</td>\n",
       "      <td>6.54</td>\n",
       "      <td>25.37</td>\n",
       "    </tr>\n",
       "    <tr>\n",
       "      <th>PS</th>\n",
       "      <td>54.93</td>\n",
       "      <td>1.10</td>\n",
       "      <td>18.91</td>\n",
       "      <td>5.66</td>\n",
       "      <td>18.92</td>\n",
       "      <td>0.26</td>\n",
       "      <td>34.17</td>\n",
       "      <td>44.07</td>\n",
       "      <td>5.86</td>\n",
       "      <td>1.67</td>\n",
       "      <td>20.75</td>\n",
       "      <td>0.25</td>\n",
       "    </tr>\n",
       "    <tr>\n",
       "      <th>PS2</th>\n",
       "      <td>238.73</td>\n",
       "      <td>10.74</td>\n",
       "      <td>64.72</td>\n",
       "      <td>38.70</td>\n",
       "      <td>52.34</td>\n",
       "      <td>3.97</td>\n",
       "      <td>127.17</td>\n",
       "      <td>77.30</td>\n",
       "      <td>98.20</td>\n",
       "      <td>34.01</td>\n",
       "      <td>191.88</td>\n",
       "      <td>8.21</td>\n",
       "    </tr>\n",
       "    <tr>\n",
       "      <th>PS3</th>\n",
       "      <td>262.38</td>\n",
       "      <td>16.18</td>\n",
       "      <td>47.83</td>\n",
       "      <td>26.59</td>\n",
       "      <td>20.91</td>\n",
       "      <td>0.40</td>\n",
       "      <td>62.17</td>\n",
       "      <td>64.00</td>\n",
       "      <td>174.54</td>\n",
       "      <td>7.91</td>\n",
       "      <td>98.20</td>\n",
       "      <td>3.19</td>\n",
       "    </tr>\n",
       "    <tr>\n",
       "      <th>PS4</th>\n",
       "      <td>76.92</td>\n",
       "      <td>3.09</td>\n",
       "      <td>6.86</td>\n",
       "      <td>2.70</td>\n",
       "      <td>6.16</td>\n",
       "      <td>0.03</td>\n",
       "      <td>9.08</td>\n",
       "      <td>18.18</td>\n",
       "      <td>63.67</td>\n",
       "      <td>0.72</td>\n",
       "      <td>55.16</td>\n",
       "      <td>0.46</td>\n",
       "    </tr>\n",
       "    <tr>\n",
       "      <th>PSP</th>\n",
       "      <td>43.92</td>\n",
       "      <td>2.81</td>\n",
       "      <td>12.36</td>\n",
       "      <td>5.09</td>\n",
       "      <td>10.84</td>\n",
       "      <td>2.04</td>\n",
       "      <td>27.88</td>\n",
       "      <td>31.11</td>\n",
       "      <td>18.52</td>\n",
       "      <td>4.61</td>\n",
       "      <td>25.34</td>\n",
       "      <td>3.40</td>\n",
       "    </tr>\n",
       "    <tr>\n",
       "      <th>PSV</th>\n",
       "      <td>9.53</td>\n",
       "      <td>1.28</td>\n",
       "      <td>1.91</td>\n",
       "      <td>1.81</td>\n",
       "      <td>2.49</td>\n",
       "      <td>0.12</td>\n",
       "      <td>1.00</td>\n",
       "      <td>7.02</td>\n",
       "      <td>3.88</td>\n",
       "      <td>0.00</td>\n",
       "      <td>1.84</td>\n",
       "      <td>0.00</td>\n",
       "    </tr>\n",
       "    <tr>\n",
       "      <th>Wii</th>\n",
       "      <td>75.75</td>\n",
       "      <td>7.72</td>\n",
       "      <td>21.89</td>\n",
       "      <td>149.42</td>\n",
       "      <td>78.25</td>\n",
       "      <td>8.22</td>\n",
       "      <td>48.35</td>\n",
       "      <td>11.01</td>\n",
       "      <td>19.20</td>\n",
       "      <td>23.88</td>\n",
       "      <td>213.53</td>\n",
       "      <td>1.76</td>\n",
       "    </tr>\n",
       "    <tr>\n",
       "      <th>WiiU</th>\n",
       "      <td>13.61</td>\n",
       "      <td>0.08</td>\n",
       "      <td>1.22</td>\n",
       "      <td>10.93</td>\n",
       "      <td>21.33</td>\n",
       "      <td>1.30</td>\n",
       "      <td>7.09</td>\n",
       "      <td>1.26</td>\n",
       "      <td>5.56</td>\n",
       "      <td>0.20</td>\n",
       "      <td>2.39</td>\n",
       "      <td>1.11</td>\n",
       "    </tr>\n",
       "    <tr>\n",
       "      <th>X360</th>\n",
       "      <td>209.90</td>\n",
       "      <td>11.52</td>\n",
       "      <td>35.30</td>\n",
       "      <td>70.09</td>\n",
       "      <td>10.26</td>\n",
       "      <td>0.36</td>\n",
       "      <td>56.14</td>\n",
       "      <td>68.62</td>\n",
       "      <td>260.35</td>\n",
       "      <td>13.02</td>\n",
       "      <td>109.74</td>\n",
       "      <td>8.00</td>\n",
       "    </tr>\n",
       "    <tr>\n",
       "      <th>XB</th>\n",
       "      <td>36.53</td>\n",
       "      <td>1.98</td>\n",
       "      <td>10.92</td>\n",
       "      <td>3.56</td>\n",
       "      <td>7.44</td>\n",
       "      <td>0.10</td>\n",
       "      <td>23.44</td>\n",
       "      <td>12.50</td>\n",
       "      <td>60.33</td>\n",
       "      <td>6.60</td>\n",
       "      <td>46.75</td>\n",
       "      <td>1.92</td>\n",
       "    </tr>\n",
       "    <tr>\n",
       "      <th>XOne</th>\n",
       "      <td>29.07</td>\n",
       "      <td>1.57</td>\n",
       "      <td>2.25</td>\n",
       "      <td>4.08</td>\n",
       "      <td>0.62</td>\n",
       "      <td>0.00</td>\n",
       "      <td>8.84</td>\n",
       "      <td>8.21</td>\n",
       "      <td>48.12</td>\n",
       "      <td>0.01</td>\n",
       "      <td>26.59</td>\n",
       "      <td>0.21</td>\n",
       "    </tr>\n",
       "  </tbody>\n",
       "</table>\n",
       "</div>"
      ],
      "text/plain": [
       "Genre     Action  Adventure  Fighting    Misc  Platform  Puzzle  Racing  \\\n",
       "Platform                                                                  \n",
       "3DS        30.81       2.00      2.63    4.48     27.61    2.63   13.89   \n",
       "DC          0.00       1.33      0.56    0.00      0.12    0.00    0.20   \n",
       "DS         42.43       8.83      3.37   68.82     55.02   50.50   29.93   \n",
       "GBA        23.21       4.54      3.28    8.59     40.36    5.47   12.60   \n",
       "GC         29.99       4.56     15.81   12.72     24.67    3.31   11.09   \n",
       "PC         25.45       1.42      0.13    3.02      0.46    0.19    3.18   \n",
       "PS         54.93       1.10     18.91    5.66     18.92    0.26   34.17   \n",
       "PS2       238.73      10.74     64.72   38.70     52.34    3.97  127.17   \n",
       "PS3       262.38      16.18     47.83   26.59     20.91    0.40   62.17   \n",
       "PS4        76.92       3.09      6.86    2.70      6.16    0.03    9.08   \n",
       "PSP        43.92       2.81     12.36    5.09     10.84    2.04   27.88   \n",
       "PSV         9.53       1.28      1.91    1.81      2.49    0.12    1.00   \n",
       "Wii        75.75       7.72     21.89  149.42     78.25    8.22   48.35   \n",
       "WiiU       13.61       0.08      1.22   10.93     21.33    1.30    7.09   \n",
       "X360      209.90      11.52     35.30   70.09     10.26    0.36   56.14   \n",
       "XB         36.53       1.98     10.92    3.56      7.44    0.10   23.44   \n",
       "XOne       29.07       1.57      2.25    4.08      0.62    0.00    8.84   \n",
       "\n",
       "Genre     Role-Playing  Shooter  Simulation  Sports  Strategy  \n",
       "Platform                                                       \n",
       "3DS              18.94     1.02       16.08    2.20      0.94  \n",
       "DC                0.68     0.05        0.52    1.09      0.00  \n",
       "DS               60.31     6.40       42.71    6.01      8.00  \n",
       "GBA              21.00     1.40        2.03    5.93      3.34  \n",
       "GC               12.48    13.04        8.39   19.91      3.45  \n",
       "PC               44.68    36.34       40.34    6.54     25.37  \n",
       "PS               44.07     5.86        1.67   20.75      0.25  \n",
       "PS2              77.30    98.20       34.01  191.88      8.21  \n",
       "PS3              64.00   174.54        7.91   98.20      3.19  \n",
       "PS4              18.18    63.67        0.72   55.16      0.46  \n",
       "PSP              31.11    18.52        4.61   25.34      3.40  \n",
       "PSV               7.02     3.88        0.00    1.84      0.00  \n",
       "Wii              11.01    19.20       23.88  213.53      1.76  \n",
       "WiiU              1.26     5.56        0.20    2.39      1.11  \n",
       "X360             68.62   260.35       13.02  109.74      8.00  \n",
       "XB               12.50    60.33        6.60   46.75      1.92  \n",
       "XOne              8.21    48.12        0.01   26.59      0.21  "
      ]
     },
     "execution_count": 35,
     "metadata": {},
     "output_type": "execute_result"
    }
   ],
   "source": [
    "platform_genre_sales = df.pivot_table(\n",
    "                        index='Platform', \n",
    "                        columns='Genre', \n",
    "                        values='Global_Sales', \n",
    "                        aggfunc=sum).fillna(0).applymap(float)\n",
    "\n",
    "platform_genre_sales"
   ]
  },
  {
   "cell_type": "code",
   "execution_count": 36,
   "metadata": {},
   "outputs": [
    {
     "data": {
      "image/png": "[encoded data removed]",
      "text/plain": [
       "<Figure size 432x288 with 2 Axes>"
      ]
     },
     "metadata": {
      "needs_background": "light"
     },
     "output_type": "display_data"
    }
   ],
   "source": [
    "ax = sns.heatmap(platform_genre_sales)\n"
   ]
  },
  {
   "cell_type": "markdown",
   "metadata": {},
   "source": [
    "### Полезные ссылки\n",
    "* [Tutorial](https://seaborn.pydata.org/tutorial.html)\n",
    "* [Gallery](https://seaborn.pydata.org/examples/index.html)"
   ]
  },
  {
   "cell_type": "markdown",
   "metadata": {},
   "source": [
    "## <center>Часть 3. Plotly\n",
    "\n",
    "Мы рассмотрели визуализации на базе библиотеки `matplotlib`. Однако, это не единственная опция для построения графиков на языке `python`. Познакомимся также с библиотекой __`plotly`__. `Plotly` - это open-source библиотека, которая позволяет строить интерактивные графики в jupyter.notebook'e без необходимости зарываться в javascript код. \n",
    "\n",
    "Прелесть интерактивных графиков заключается в том, что можно посмотреть точное численное значение при наведении мыши, скрыть неинтересные ряды в визуализации, приблизить определенный участок графика и т.д.\n",
    "\n",
    "Перед началом работы импортируем все необходимые модули и инициализируем `plotly` с помощью команды `init_notebook_mode`."
   ]
  },
  {
   "cell_type": "code",
   "execution_count": 37,
   "metadata": {},
   "outputs": [
    {
     "ename": "ModuleNotFoundError",
     "evalue": "No module named 'plotly'",
     "output_type": "error",
     "traceback": [
      "\u001b[1;31m---------------------------------------------------------------------------\u001b[0m",
      "\u001b[1;31mModuleNotFoundError\u001b[0m                       Traceback (most recent call last)",
      "\u001b[1;32m<ipython-input-37-5ec83483269e>\u001b[0m in \u001b[0;36m<module>\u001b[1;34m\u001b[0m\n\u001b[1;32m----> 1\u001b[1;33m \u001b[1;32mfrom\u001b[0m \u001b[0mplotly\u001b[0m\u001b[1;33m.\u001b[0m\u001b[0moffline\u001b[0m \u001b[1;32mimport\u001b[0m \u001b[0minit_notebook_mode\u001b[0m\u001b[1;33m,\u001b[0m \u001b[0miplot\u001b[0m\u001b[1;33m\u001b[0m\u001b[1;33m\u001b[0m\u001b[0m\n\u001b[0m\u001b[0;32m      2\u001b[0m \u001b[1;32mimport\u001b[0m \u001b[0mplotly\u001b[0m\u001b[1;33m\u001b[0m\u001b[1;33m\u001b[0m\u001b[0m\n\u001b[0;32m      3\u001b[0m \u001b[1;32mimport\u001b[0m \u001b[0mplotly\u001b[0m\u001b[1;33m.\u001b[0m\u001b[0mgraph_objs\u001b[0m \u001b[1;32mas\u001b[0m \u001b[0mgo\u001b[0m\u001b[1;33m\u001b[0m\u001b[1;33m\u001b[0m\u001b[0m\n\u001b[0;32m      4\u001b[0m \u001b[1;33m\u001b[0m\u001b[0m\n\u001b[0;32m      5\u001b[0m \u001b[0minit_notebook_mode\u001b[0m\u001b[1;33m(\u001b[0m\u001b[0mconnected\u001b[0m\u001b[1;33m=\u001b[0m\u001b[1;32mTrue\u001b[0m\u001b[1;33m)\u001b[0m\u001b[1;33m\u001b[0m\u001b[1;33m\u001b[0m\u001b[0m\n",
      "\u001b[1;31mModuleNotFoundError\u001b[0m: No module named 'plotly'"
     ]
    }
   ],
   "source": [
    "from plotly.offline import init_notebook_mode, iplot\n",
    "import plotly\n",
    "import plotly.graph_objs as go\n",
    "\n",
    "init_notebook_mode(connected=True)"
   ]
  },
  {
   "cell_type": "markdown",
   "metadata": {
    "scrolled": false
   },
   "source": [
    "Для начала построим __`line plot` с динамикой числа вышедших игр и их продаж по годам__. "
   ]
  },
  {
   "cell_type": "code",
   "execution_count": null,
   "metadata": {},
   "outputs": [],
   "source": [
    "global_sales_years_df = df.groupby('Year_of_Release')[['Global_Sales']].sum()\n",
    "global_sales_years_df.head()"
   ]
  },
  {
   "cell_type": "code",
   "execution_count": null,
   "metadata": {},
   "outputs": [],
   "source": [
    "released_years_df = df.groupby('Year_of_Release')[['Name']].count()\n",
    "released_years_df.head()"
   ]
  },
  {
   "cell_type": "code",
   "execution_count": null,
   "metadata": {},
   "outputs": [],
   "source": [
    "years_df = global_sales_years_df.join(released_years_df)\n",
    "years_df.head()"
   ]
  },
  {
   "cell_type": "code",
   "execution_count": null,
   "metadata": {},
   "outputs": [],
   "source": [
    "years_df.columns = ['Global_Sales', 'Number_of_Games']\n",
    "years_df.head()"
   ]
  },
  {
   "cell_type": "markdown",
   "metadata": {},
   "source": [
    "В `plotly` все строится на объекте `Figure`, который состоит из данных (массив линий, которые в библиотеке называются `traces`) и оформления/стиля, за который отвечает объект `layout`. В простых случаях можно вызывать функцию `iplot` и просто от массива `traces`."
   ]
  },
  {
   "cell_type": "code",
   "execution_count": null,
   "metadata": {},
   "outputs": [],
   "source": [
    "trace0 = go.Scatter(\n",
    "    x=years_df.index,\n",
    "    y=years_df.Global_Sales,\n",
    "    name='Global Sales'\n",
    ")\n",
    "\n",
    "trace1 = go.Scatter(\n",
    "    x=years_df.index,\n",
    "    y=years_df.Number_of_Games,\n",
    "    name='Number of games released'\n",
    ")\n",
    "  \n",
    "data = [trace0, trace1]\n",
    "layout = {'title': 'Statistics of video games'}\n",
    "\n",
    "fig = go.Figure(data=data, layout=layout)\n",
    "\n",
    "iplot(fig)"
   ]
  },
  {
   "cell_type": "markdown",
   "metadata": {},
   "source": [
    "Посмотрим также на __рыночную долю игровых платформ, расчитанную по количеству выпущенных игр и по суммарной выручке__. Для этого построим __`bar chart`__."
   ]
  },
  {
   "cell_type": "code",
   "execution_count": null,
   "metadata": {},
   "outputs": [],
   "source": [
    "global_sales_platforms_df = df.groupby('Platform')[['Global_Sales']].sum()\n",
    "released_platforms_df = df.groupby('Platform')[['Name']].count()\n",
    "platforms_df = global_sales_platforms_df.join(released_platforms_df)\n",
    "platforms_df"
   ]
  },
  {
   "cell_type": "code",
   "execution_count": null,
   "metadata": {},
   "outputs": [],
   "source": [
    "platforms_df.columns = ['Global_Sales', 'Number_of_Games']\n",
    "platforms_df.sort_values('Global_Sales', inplace=True)\n",
    "platforms_df = platforms_df.apply(lambda x: 100*x/platforms_df.sum(), axis = 1)\n",
    "platforms_df.head()"
   ]
  },
  {
   "cell_type": "code",
   "execution_count": null,
   "metadata": {},
   "outputs": [],
   "source": [
    "trace0 = go.Bar(\n",
    "    x=platforms_df.index,\n",
    "    y=platforms_df.Global_Sales,\n",
    "    name='Global Sales',\n",
    "    orientation = 'v'\n",
    ")\n",
    "\n",
    "trace1 = go.Bar(\n",
    "    x=platforms_df.index,\n",
    "    y=platforms_df.Number_of_Games,\n",
    "    name='Number of games released',\n",
    "    orientation = 'v'\n",
    ")\n",
    "\n",
    "data = [trace0, trace1]\n",
    "layout = {'title': 'Platforms share'}\n",
    "\n",
    "fig = go.Figure(data=data, layout=layout)\n",
    "\n",
    "iplot(fig)"
   ]
  },
  {
   "cell_type": "markdown",
   "metadata": {},
   "source": [
    "В `plotly` можно построить и __`box plot`__. Рассмотрим __различия оценок критиков в зависимости от жанра игры__."
   ]
  },
  {
   "cell_type": "code",
   "execution_count": null,
   "metadata": {},
   "outputs": [],
   "source": [
    "df.Genre.unique()"
   ]
  },
  {
   "cell_type": "code",
   "execution_count": null,
   "metadata": {},
   "outputs": [],
   "source": [
    "data = []\n",
    "\n",
    "for genre in df.Genre.unique():\n",
    "    data.append(\n",
    "        go.Box(y=df[df.Genre==genre].Critic_Score, \n",
    "               name=genre)\n",
    "    )\n",
    "iplot(data, show_link = False)"
   ]
  },
  {
   "cell_type": "markdown",
   "metadata": {},
   "source": [
    "Давайте посмотрим на график зависимости средней оценки пользователей и оценки критиков по жанрам. Это будет обычный scatter plot."
   ]
  },
  {
   "cell_type": "code",
   "execution_count": null,
   "metadata": {},
   "outputs": [],
   "source": [
    "scores_genres_df = df.groupby('Genre')[['Critic_Score', 'User_Score']].mean()\n",
    "sales_genres_df = df.groupby('Genre')[['Global_Sales']].sum()\n",
    "\n",
    "genres_df = scores_genres_df.join(sales_genres_df)\n",
    "    \n",
    "genres_df.head()"
   ]
  },
  {
   "cell_type": "code",
   "execution_count": null,
   "metadata": {},
   "outputs": [],
   "source": [
    "trace0 = go.Scatter(\n",
    "    x=genres_df.Critic_Score,\n",
    "    y=genres_df.User_Score,\n",
    "    mode = 'markers'\n",
    ")\n",
    "\n",
    "data = [trace0]\n",
    "layout = {'title': 'Statistics of video games genres', 'yaxis': {'title': 'user score'}, \n",
    "          'xaxis': {'title': 'critic score'}}\n",
    "\n",
    "fig = go.Figure(data=data, layout=layout)\n",
    "\n",
    "iplot(fig, show_link=False)"
   ]
  },
  {
   "cell_type": "markdown",
   "metadata": {},
   "source": [
    "Пока что ничего непонятно, давайте добавим к точкам подписи."
   ]
  },
  {
   "cell_type": "code",
   "execution_count": null,
   "metadata": {},
   "outputs": [],
   "source": [
    "trace0 = go.Scatter(\n",
    "    x=genres_df.Critic_Score,\n",
    "    y=genres_df.User_Score,\n",
    "    mode = 'markers+text',\n",
    "    text = genres_df.index,\n",
    "    textposition='bottom center'\n",
    ")\n",
    "\n",
    "data = [trace0]\n",
    "layout = {'title': 'Statistics of video games genres'}\n",
    "\n",
    "fig = go.Figure(data=data, layout=layout)\n",
    "\n",
    "iplot(fig, show_link=False)"
   ]
  },
  {
   "cell_type": "markdown",
   "metadata": {},
   "source": [
    "Далее добавим на график еще одно измерение - размер жанра (суммарный объем продаж, который мы заранее посчитали) и получим bubble chart."
   ]
  },
  {
   "cell_type": "code",
   "execution_count": null,
   "metadata": {},
   "outputs": [],
   "source": [
    "genres_df.index"
   ]
  },
  {
   "cell_type": "code",
   "execution_count": null,
   "metadata": {},
   "outputs": [],
   "source": [
    "trace0 = go.Scatter(\n",
    "    x=genres_df.Critic_Score,\n",
    "    y=genres_df.User_Score,\n",
    "    mode = 'markers+text',\n",
    "    text = genres_df.index,\n",
    "    textposition='bottom center',\n",
    "    marker = dict(\n",
    "        size = 1/10*genres_df.Global_Sales,\n",
    "        color = [\n",
    "            'aqua', 'azure', 'beige', 'lightgreen',\n",
    "            'lavender', 'lightblue', 'pink', 'salmon',\n",
    "            'wheat', 'ivory', 'silver'\n",
    "        ]\n",
    "    )\n",
    ")\n",
    "\n",
    "data = [trace0]\n",
    "layout = {\n",
    "    'title': 'Statistics of video games genres',\n",
    "    'xaxis': {'title': 'Critic Score'},\n",
    "    'yaxis': {'title': 'User Score'}\n",
    "}\n",
    "\n",
    "fig = go.Figure(data=data, layout=layout)\n",
    "\n",
    "iplot(fig, show_link=False)"
   ]
  },
  {
   "cell_type": "markdown",
   "metadata": {},
   "source": [
    "В plotly есть возможность делать графики в drop down menus, когда в зависимости от выбранного среза будут отображаться различные графики. Давайте построим __гистораммы распределений оценок пользователей по жанрам__."
   ]
  },
  {
   "cell_type": "code",
   "execution_count": null,
   "metadata": {},
   "outputs": [],
   "source": [
    "traces = []\n",
    "for genre in ['Racing', 'Shooter', 'Sports', 'Action']:\n",
    "    traces.append(\n",
    "        go.Histogram(\n",
    "            x=df[df.Genre == genre].User_Score,\n",
    "            histnorm='probability', \n",
    "            name = genre, \n",
    "            visible = (genre == 'Racing'))\n",
    "    )\n",
    "    \n",
    "layout = go.Layout(\n",
    "    title='User Score Distribution',\n",
    "    updatemenus=list([\n",
    "        dict(\n",
    "            x=-0.05,\n",
    "            y=1,\n",
    "            yanchor='top',\n",
    "            buttons=list([\n",
    "                dict(\n",
    "                    args=['visible', [True] + [False]*3],\n",
    "                    label='Racing',\n",
    "                    method='restyle'\n",
    "                ),\n",
    "                dict(\n",
    "                    args=['visible', [False] + [True] + [False]*2],\n",
    "                    label='Shooter',\n",
    "                    method='restyle'\n",
    "                ),\n",
    "                dict(\n",
    "                    args=['visible', [False]*2 + [True] + [False]],\n",
    "                    label='Sports',\n",
    "                    method='restyle'\n",
    "                ),\n",
    "                dict(\n",
    "                    args=['visible', [False]*3 + [True]],\n",
    "                    label='Action',\n",
    "                    method='restyle'\n",
    "                )\n",
    "            ]),\n",
    "        )\n",
    "    ]),\n",
    ")\n",
    "\n",
    "fig = {'data': traces, 'layout': layout}\n",
    "iplot(fig, show_link=False)"
   ]
  },
  {
   "cell_type": "markdown",
   "metadata": {},
   "source": [
    "Немного отвлечемся от данных об играх и рассмотрим еще один тип графика, который можно построить в plotly и они могут быть очень полезны, например, для web-аналитики - это __воронка или funnel пользователя на сайте__.\n",
    "В plotly на данный момент нет функции, которая умеет строить воронки из коробки, но с помощью svg фигур ее достаточно легко построить. Этот пример покажет нам, насколько легко можно кастомизировать библиотеку под свои нужды."
   ]
  },
  {
   "cell_type": "code",
   "execution_count": null,
   "metadata": {},
   "outputs": [],
   "source": [
    "# chart stages data\n",
    "values = [40000, 17567, 7443, 3290, 2567]\n",
    "phases = ['Main Page', 'Catalog', 'Product Details', 'Cart', 'Purchase']\n",
    "colors = ['rgb(32,155,160)', 'rgb(253,93,124)', 'rgb(28,119,139)', 'rgb(182,231,235)', 'rgb(35,154,160)']"
   ]
  },
  {
   "cell_type": "code",
   "execution_count": null,
   "metadata": {
    "scrolled": false
   },
   "outputs": [],
   "source": [
    "n_phase = len(phases)\n",
    "plot_width = 400\n",
    "\n",
    "# height of a section and difference between sections \n",
    "section_h = 100\n",
    "section_d = 10\n",
    "\n",
    "# multiplication factor to calculate the width of other sections\n",
    "unit_width = plot_width / max(values)\n",
    "\n",
    "# width of each funnel section relative to the plot width\n",
    "phase_w = [int(value * unit_width) for value in values]\n",
    "\n",
    "# plot height based on the number of sections and the gap in between them\n",
    "height = section_h * n_phase + section_d * (n_phase - 1)"
   ]
  },
  {
   "cell_type": "code",
   "execution_count": null,
   "metadata": {},
   "outputs": [],
   "source": [
    "# list containing all the plot shapes\n",
    "shapes = []\n",
    "\n",
    "# list containing the Y-axis location for each section's name and value text\n",
    "label_y = []\n",
    "\n",
    "for i in range(n_phase):\n",
    "        if (i == n_phase-1):\n",
    "                points = [phase_w[i] / 2, height, phase_w[i] / 2, height - section_h]\n",
    "        else:\n",
    "                points = [phase_w[i] / 2, height, phase_w[i+1] / 2, height - section_h]\n",
    "\n",
    "        path = 'M {0} {1} L {2} {3} L -{2} {3} L -{0} {1} Z'.format(*points)\n",
    "\n",
    "        shape = {\n",
    "                'type': 'path',\n",
    "                'path': path,\n",
    "                'fillcolor': colors[i],\n",
    "                'line': {\n",
    "                    'width': 1,\n",
    "                    'color': colors[i]\n",
    "                }\n",
    "        }\n",
    "        shapes.append(shape)\n",
    "        \n",
    "        # Y-axis location for this section's details (text)\n",
    "        label_y.append(height - (section_h / 2))\n",
    "\n",
    "        height = height - (section_h + section_d)\n",
    "\n",
    "# For phase names\n",
    "label_trace = go.Scatter(\n",
    "    x=[-350]*n_phase,\n",
    "    y=label_y,\n",
    "    mode='text',\n",
    "    text=phases,\n",
    "    textfont=dict(\n",
    "        color='rgb(40,40,40)',\n",
    "        size=15\n",
    "    )\n",
    ")\n",
    " \n",
    "# For phase values\n",
    "value_trace = go.Scatter(\n",
    "    x=[350]*n_phase,\n",
    "    y=label_y,\n",
    "    mode='text',\n",
    "    text=values,\n",
    "    textfont=dict(\n",
    "        color='rgb(40,40,40)',\n",
    "        size=15\n",
    "    )\n",
    ")\n",
    "\n",
    "data = [label_trace, value_trace]\n",
    " \n",
    "layout = go.Layout(\n",
    "    title=\"<b>Funnel Chart</b>\",\n",
    "    titlefont=dict(\n",
    "        size=20,\n",
    "        color='rgb(0,0,0)'\n",
    "    ),\n",
    "    shapes=shapes,\n",
    "    height=560,\n",
    "    width=800,\n",
    "    showlegend=False,\n",
    "    paper_bgcolor='rgba(255,255,255,1)',\n",
    "    plot_bgcolor='rgba(255,255,255,1)',\n",
    "    xaxis=dict(\n",
    "        showticklabels=False,\n",
    "        zeroline=False,\n",
    "        showgrid=False,\n",
    "        range=[-450, 450]\n",
    "    ),\n",
    "    yaxis=dict(\n",
    "        showticklabels=False,\n",
    "        zeroline=False,\n",
    "        showgrid=False\n",
    "    )\n",
    ")\n",
    " \n",
    "fig = go.Figure(data=data, layout=layout)\n",
    "iplot(fig, show_link=False)"
   ]
  },
  {
   "cell_type": "markdown",
   "metadata": {},
   "source": [
    "### Обертки для plotly\n",
    "Как вы могли заметить, описывать все traces бывает достаточно многословно. Поэтому для частых cases удобно написать функции-обертки на DataFrame. Рассмотрим сценарии с line plot и несколько line plots с drop down."
   ]
  },
  {
   "cell_type": "code",
   "execution_count": null,
   "metadata": {},
   "outputs": [],
   "source": [
    "def plotly_line_plot(df, title = ''):\n",
    "    data = []\n",
    "    \n",
    "    for column in df.columns:\n",
    "        trace = go.Scatter(\n",
    "            x = df.index,\n",
    "            y = df[column],\n",
    "            mode = 'lines',\n",
    "            name = column\n",
    "        )\n",
    "        data.append(trace)\n",
    "    \n",
    "    layout = dict(title = title)\n",
    "    fig = dict(data = data, layout = layout)\n",
    "    iplot(fig, show_link=False)"
   ]
  },
  {
   "cell_type": "markdown",
   "metadata": {},
   "source": [
    "df1.head()"
   ]
  },
  {
   "cell_type": "code",
   "execution_count": null,
   "metadata": {},
   "outputs": [],
   "source": [
    "plotly_line_plot(\n",
    "    df1,\n",
    "    title = 'Sales of Video Games'\n",
    ")"
   ]
  },
  {
   "cell_type": "code",
   "execution_count": null,
   "metadata": {},
   "outputs": [],
   "source": [
    "def get_num_columns(dfs):\n",
    "    if len(dfs) == 0:\n",
    "        return 0\n",
    "    return sum(list(map(lambda x: len(x.columns), dfs)))\n",
    "\n",
    "def plotly_dropdown_line_plots(slices, title):\n",
    "    slices_lst = list(slices.keys())\n",
    "    N_slices = len(slices_lst)\n",
    "\n",
    "    traces_dm = []\n",
    "    buttons = []\n",
    "    \n",
    "    for i in range(N_slices):\n",
    "        slice = slices_lst[i]\n",
    "        df = slices[slice]\n",
    "        \n",
    "        dfs_before = list(slices.values())[:i]\n",
    "        dfs_after = list(slices.values())[i+1:]\n",
    "\n",
    "        num_before = get_num_columns(dfs_before)\n",
    "        num_after = get_num_columns(dfs_after)\n",
    "        \n",
    "        for col in df.columns:\n",
    "            traces_dm.append(\n",
    "                go.Scatter(\n",
    "                    x = df.index,\n",
    "                    y = df[col],\n",
    "                    name = col,\n",
    "                    visible = (i == 0),\n",
    "                    mode = 'lines'\n",
    "                )\n",
    "            )\n",
    "\n",
    "        buttons.append(\n",
    "            dict(\n",
    "                label = slice,\n",
    "                method = 'restyle',\n",
    "                args = ['visible', [False]*num_before + [True]*len(df.columns) + [False]*num_after]\n",
    "            )\n",
    "        )\n",
    "    layout = go.Layout(\n",
    "        title = title,\n",
    "        updatemenus = [\n",
    "            dict(\n",
    "                x = -0.05,\n",
    "                y = 1,\n",
    "                yanchor = 'top',\n",
    "                buttons = buttons,\n",
    "            )\n",
    "        ]\n",
    "    )\n",
    "    fig = go.Figure(data=traces_dm, layout=layout)\n",
    "    iplot(fig, show_link=False)"
   ]
  },
  {
   "cell_type": "code",
   "execution_count": null,
   "metadata": {},
   "outputs": [],
   "source": [
    "genre_slices = {}"
   ]
  },
  {
   "cell_type": "code",
   "execution_count": null,
   "metadata": {},
   "outputs": [],
   "source": [
    "for genre in df.Genre.unique():\n",
    "    genre_slices[genre] = df[df.Genre == genre]\\\n",
    "        .groupby('Year_of_Release')[list(filter(lambda x: 'Sales' in x, df.columns))].sum()"
   ]
  },
  {
   "cell_type": "code",
   "execution_count": null,
   "metadata": {},
   "outputs": [],
   "source": [
    "genre_slices.keys()"
   ]
  },
  {
   "cell_type": "code",
   "execution_count": null,
   "metadata": {},
   "outputs": [],
   "source": [
    "genre_slices['Action'].head()"
   ]
  },
  {
   "cell_type": "code",
   "execution_count": null,
   "metadata": {},
   "outputs": [],
   "source": [
    "plotly_dropdown_line_plots(genre_slices, title = 'Sales of Video Games by genre')"
   ]
  },
  {
   "cell_type": "markdown",
   "metadata": {},
   "source": [
    "### Полезные ссылки\n",
    "* [Галерея](https://plot.ly/python/)\n",
    "* [Документация](https://plot.ly/python/reference/)"
   ]
  },
  {
   "cell_type": "code",
   "execution_count": null,
   "metadata": {},
   "outputs": [],
   "source": []
  }
 ],
 "metadata": {
  "kernelspec": {
   "display_name": "Python 3",
   "language": "python",
   "name": "python3"
  },
  "language_info": {
   "codemirror_mode": {
    "name": "ipython",
    "version": 3
   },
   "file_extension": ".py",
   "mimetype": "text/x-python",
   "name": "python",
   "nbconvert_exporter": "python",
   "pygments_lexer": "ipython3",
   "version": "3.7.1"
  }
 },
 "nbformat": 4,
 "nbformat_minor": 2
}
